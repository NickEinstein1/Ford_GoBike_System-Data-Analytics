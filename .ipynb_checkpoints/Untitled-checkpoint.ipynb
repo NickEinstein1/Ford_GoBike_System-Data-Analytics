{
 "cells": [
  {
   "cell_type": "markdown",
   "id": "cf3091d3",
   "metadata": {},
   "source": [
    "# Ford GoBike Trip Duration per User Type & Date_Time"
   ]
  },
  {
   "cell_type": "markdown",
   "id": "b8c807ae",
   "metadata": {},
   "source": [
    "# Nick Mwaura"
   ]
  },
  {
   "cell_type": "markdown",
   "id": "adec5c47",
   "metadata": {},
   "source": [
    "# Investigation Overview"
   ]
  },
  {
   "cell_type": "markdown",
   "id": "cf8460ec",
   "metadata": {},
   "source": [
    "In this dataset that involves trip duration of Ford GoBike system, I want to assess the effect user type has on the duration.\n",
    "    \n",
    "In respect to the dataset, datetime is a factor which we look into, in order to attain the effect it has on the duration.\n",
    "\n",
    "The dataset of Ford GoBike trip duration has various data variables, but in order to assess it we look into the following:\n",
    "    \n",
    "the user type, the date time under days of the week and hours of the day."
   ]
  },
  {
   "cell_type": "markdown",
   "id": "83a2ee19",
   "metadata": {},
   "source": [
    "# Dataset Overview"
   ]
  },
  {
   "cell_type": "markdown",
   "id": "8503882e",
   "metadata": {},
   "source": [
    "The dataset comprises of information regarding bike rides made covering the greater\n",
    "\n",
    "San Francisco Bay area.The data features include duration which is in seconds,datetime,\n",
    "\n",
    "customer type, and also gender which comprises of 3 categories: male, female and others.\n",
    "    \n",
    "After analysis, some of the dataset was removed after cleaning, due to missing values \n",
    "and inconsistencies."
   ]
  },
  {
   "cell_type": "code",
   "execution_count": 1,
   "id": "054722be",
   "metadata": {},
   "outputs": [],
   "source": [
    "# import all packages and set plots to be embedded inline\n",
    "import numpy as np\n",
    "import pandas as pd\n",
    "import matplotlib.pyplot as plt\n",
    "import seaborn as sb\n",
    "\n",
    "%matplotlib inline\n",
    "\n",
    "# suppress warnings from final output\n",
    "import warnings\n",
    "warnings.simplefilter(\"ignore\")"
   ]
  },
  {
   "cell_type": "code",
   "execution_count": 2,
   "id": "80606ad2",
   "metadata": {},
   "outputs": [],
   "source": [
    "df_bike =pd.read_csv('201902-fordgobike-tripdata.csv')"
   ]
  },
  {
   "cell_type": "code",
   "execution_count": 3,
   "id": "d1426216",
   "metadata": {},
   "outputs": [
    {
     "data": {
      "text/html": [
       "<div>\n",
       "<style scoped>\n",
       "    .dataframe tbody tr th:only-of-type {\n",
       "        vertical-align: middle;\n",
       "    }\n",
       "\n",
       "    .dataframe tbody tr th {\n",
       "        vertical-align: top;\n",
       "    }\n",
       "\n",
       "    .dataframe thead th {\n",
       "        text-align: right;\n",
       "    }\n",
       "</style>\n",
       "<table border=\"1\" class=\"dataframe\">\n",
       "  <thead>\n",
       "    <tr style=\"text-align: right;\">\n",
       "      <th></th>\n",
       "      <th>duration_sec</th>\n",
       "      <th>start_time</th>\n",
       "      <th>end_time</th>\n",
       "      <th>start_station_id</th>\n",
       "      <th>start_station_name</th>\n",
       "      <th>start_station_latitude</th>\n",
       "      <th>start_station_longitude</th>\n",
       "      <th>end_station_id</th>\n",
       "      <th>end_station_name</th>\n",
       "      <th>end_station_latitude</th>\n",
       "      <th>end_station_longitude</th>\n",
       "      <th>bike_id</th>\n",
       "      <th>user_type</th>\n",
       "      <th>member_birth_year</th>\n",
       "      <th>member_gender</th>\n",
       "      <th>bike_share_for_all_trip</th>\n",
       "    </tr>\n",
       "  </thead>\n",
       "  <tbody>\n",
       "    <tr>\n",
       "      <th>0</th>\n",
       "      <td>52185</td>\n",
       "      <td>2019-02-28 17:32:10.1450</td>\n",
       "      <td>2019-03-01 08:01:55.9750</td>\n",
       "      <td>21.0</td>\n",
       "      <td>Montgomery St BART Station (Market St at 2nd St)</td>\n",
       "      <td>37.789625</td>\n",
       "      <td>-122.400811</td>\n",
       "      <td>13.0</td>\n",
       "      <td>Commercial St at Montgomery St</td>\n",
       "      <td>37.794231</td>\n",
       "      <td>-122.402923</td>\n",
       "      <td>4902</td>\n",
       "      <td>Customer</td>\n",
       "      <td>1984.0</td>\n",
       "      <td>Male</td>\n",
       "      <td>No</td>\n",
       "    </tr>\n",
       "    <tr>\n",
       "      <th>1</th>\n",
       "      <td>42521</td>\n",
       "      <td>2019-02-28 18:53:21.7890</td>\n",
       "      <td>2019-03-01 06:42:03.0560</td>\n",
       "      <td>23.0</td>\n",
       "      <td>The Embarcadero at Steuart St</td>\n",
       "      <td>37.791464</td>\n",
       "      <td>-122.391034</td>\n",
       "      <td>81.0</td>\n",
       "      <td>Berry St at 4th St</td>\n",
       "      <td>37.775880</td>\n",
       "      <td>-122.393170</td>\n",
       "      <td>2535</td>\n",
       "      <td>Customer</td>\n",
       "      <td>NaN</td>\n",
       "      <td>NaN</td>\n",
       "      <td>No</td>\n",
       "    </tr>\n",
       "    <tr>\n",
       "      <th>2</th>\n",
       "      <td>61854</td>\n",
       "      <td>2019-02-28 12:13:13.2180</td>\n",
       "      <td>2019-03-01 05:24:08.1460</td>\n",
       "      <td>86.0</td>\n",
       "      <td>Market St at Dolores St</td>\n",
       "      <td>37.769305</td>\n",
       "      <td>-122.426826</td>\n",
       "      <td>3.0</td>\n",
       "      <td>Powell St BART Station (Market St at 4th St)</td>\n",
       "      <td>37.786375</td>\n",
       "      <td>-122.404904</td>\n",
       "      <td>5905</td>\n",
       "      <td>Customer</td>\n",
       "      <td>1972.0</td>\n",
       "      <td>Male</td>\n",
       "      <td>No</td>\n",
       "    </tr>\n",
       "    <tr>\n",
       "      <th>3</th>\n",
       "      <td>36490</td>\n",
       "      <td>2019-02-28 17:54:26.0100</td>\n",
       "      <td>2019-03-01 04:02:36.8420</td>\n",
       "      <td>375.0</td>\n",
       "      <td>Grove St at Masonic Ave</td>\n",
       "      <td>37.774836</td>\n",
       "      <td>-122.446546</td>\n",
       "      <td>70.0</td>\n",
       "      <td>Central Ave at Fell St</td>\n",
       "      <td>37.773311</td>\n",
       "      <td>-122.444293</td>\n",
       "      <td>6638</td>\n",
       "      <td>Subscriber</td>\n",
       "      <td>1989.0</td>\n",
       "      <td>Other</td>\n",
       "      <td>No</td>\n",
       "    </tr>\n",
       "    <tr>\n",
       "      <th>4</th>\n",
       "      <td>1585</td>\n",
       "      <td>2019-02-28 23:54:18.5490</td>\n",
       "      <td>2019-03-01 00:20:44.0740</td>\n",
       "      <td>7.0</td>\n",
       "      <td>Frank H Ogawa Plaza</td>\n",
       "      <td>37.804562</td>\n",
       "      <td>-122.271738</td>\n",
       "      <td>222.0</td>\n",
       "      <td>10th Ave at E 15th St</td>\n",
       "      <td>37.792714</td>\n",
       "      <td>-122.248780</td>\n",
       "      <td>4898</td>\n",
       "      <td>Subscriber</td>\n",
       "      <td>1974.0</td>\n",
       "      <td>Male</td>\n",
       "      <td>Yes</td>\n",
       "    </tr>\n",
       "  </tbody>\n",
       "</table>\n",
       "</div>"
      ],
      "text/plain": [
       "   duration_sec                start_time                  end_time  \\\n",
       "0         52185  2019-02-28 17:32:10.1450  2019-03-01 08:01:55.9750   \n",
       "1         42521  2019-02-28 18:53:21.7890  2019-03-01 06:42:03.0560   \n",
       "2         61854  2019-02-28 12:13:13.2180  2019-03-01 05:24:08.1460   \n",
       "3         36490  2019-02-28 17:54:26.0100  2019-03-01 04:02:36.8420   \n",
       "4          1585  2019-02-28 23:54:18.5490  2019-03-01 00:20:44.0740   \n",
       "\n",
       "   start_station_id                                start_station_name  \\\n",
       "0              21.0  Montgomery St BART Station (Market St at 2nd St)   \n",
       "1              23.0                     The Embarcadero at Steuart St   \n",
       "2              86.0                           Market St at Dolores St   \n",
       "3             375.0                           Grove St at Masonic Ave   \n",
       "4               7.0                               Frank H Ogawa Plaza   \n",
       "\n",
       "   start_station_latitude  start_station_longitude  end_station_id  \\\n",
       "0               37.789625              -122.400811            13.0   \n",
       "1               37.791464              -122.391034            81.0   \n",
       "2               37.769305              -122.426826             3.0   \n",
       "3               37.774836              -122.446546            70.0   \n",
       "4               37.804562              -122.271738           222.0   \n",
       "\n",
       "                               end_station_name  end_station_latitude  \\\n",
       "0                Commercial St at Montgomery St             37.794231   \n",
       "1                            Berry St at 4th St             37.775880   \n",
       "2  Powell St BART Station (Market St at 4th St)             37.786375   \n",
       "3                        Central Ave at Fell St             37.773311   \n",
       "4                         10th Ave at E 15th St             37.792714   \n",
       "\n",
       "   end_station_longitude  bike_id   user_type  member_birth_year  \\\n",
       "0            -122.402923     4902    Customer             1984.0   \n",
       "1            -122.393170     2535    Customer                NaN   \n",
       "2            -122.404904     5905    Customer             1972.0   \n",
       "3            -122.444293     6638  Subscriber             1989.0   \n",
       "4            -122.248780     4898  Subscriber             1974.0   \n",
       "\n",
       "  member_gender bike_share_for_all_trip  \n",
       "0          Male                      No  \n",
       "1           NaN                      No  \n",
       "2          Male                      No  \n",
       "3         Other                      No  \n",
       "4          Male                     Yes  "
      ]
     },
     "execution_count": 3,
     "metadata": {},
     "output_type": "execute_result"
    }
   ],
   "source": [
    "df_bike.head(5)"
   ]
  },
  {
   "cell_type": "code",
   "execution_count": 4,
   "id": "dd1cf1da",
   "metadata": {},
   "outputs": [
    {
     "name": "stdout",
     "output_type": "stream",
     "text": [
      "<class 'pandas.core.frame.DataFrame'>\n",
      "RangeIndex: 183412 entries, 0 to 183411\n",
      "Data columns (total 16 columns):\n",
      " #   Column                   Non-Null Count   Dtype  \n",
      "---  ------                   --------------   -----  \n",
      " 0   duration_sec             183412 non-null  int64  \n",
      " 1   start_time               183412 non-null  object \n",
      " 2   end_time                 183412 non-null  object \n",
      " 3   start_station_id         183215 non-null  float64\n",
      " 4   start_station_name       183215 non-null  object \n",
      " 5   start_station_latitude   183412 non-null  float64\n",
      " 6   start_station_longitude  183412 non-null  float64\n",
      " 7   end_station_id           183215 non-null  float64\n",
      " 8   end_station_name         183215 non-null  object \n",
      " 9   end_station_latitude     183412 non-null  float64\n",
      " 10  end_station_longitude    183412 non-null  float64\n",
      " 11  bike_id                  183412 non-null  int64  \n",
      " 12  user_type                183412 non-null  object \n",
      " 13  member_birth_year        175147 non-null  float64\n",
      " 14  member_gender            175147 non-null  object \n",
      " 15  bike_share_for_all_trip  183412 non-null  object \n",
      "dtypes: float64(7), int64(2), object(7)\n",
      "memory usage: 22.4+ MB\n"
     ]
    }
   ],
   "source": [
    "df_bike.info()"
   ]
  },
  {
   "cell_type": "code",
   "execution_count": 5,
   "id": "5a9d1733",
   "metadata": {},
   "outputs": [],
   "source": [
    "#we need to eliminate the empty files,since from above we can confirm there are empty files.\n",
    "df_bike.dropna(inplace=True)"
   ]
  },
  {
   "cell_type": "code",
   "execution_count": 6,
   "id": "d92687da",
   "metadata": {},
   "outputs": [
    {
     "name": "stdout",
     "output_type": "stream",
     "text": [
      "<class 'pandas.core.frame.DataFrame'>\n",
      "Int64Index: 174952 entries, 0 to 183411\n",
      "Data columns (total 16 columns):\n",
      " #   Column                   Non-Null Count   Dtype  \n",
      "---  ------                   --------------   -----  \n",
      " 0   duration_sec             174952 non-null  int64  \n",
      " 1   start_time               174952 non-null  object \n",
      " 2   end_time                 174952 non-null  object \n",
      " 3   start_station_id         174952 non-null  float64\n",
      " 4   start_station_name       174952 non-null  object \n",
      " 5   start_station_latitude   174952 non-null  float64\n",
      " 6   start_station_longitude  174952 non-null  float64\n",
      " 7   end_station_id           174952 non-null  float64\n",
      " 8   end_station_name         174952 non-null  object \n",
      " 9   end_station_latitude     174952 non-null  float64\n",
      " 10  end_station_longitude    174952 non-null  float64\n",
      " 11  bike_id                  174952 non-null  int64  \n",
      " 12  user_type                174952 non-null  object \n",
      " 13  member_birth_year        174952 non-null  float64\n",
      " 14  member_gender            174952 non-null  object \n",
      " 15  bike_share_for_all_trip  174952 non-null  object \n",
      "dtypes: float64(7), int64(2), object(7)\n",
      "memory usage: 22.7+ MB\n"
     ]
    }
   ],
   "source": [
    "df_bike.info()"
   ]
  },
  {
   "cell_type": "markdown",
   "id": "3f281138",
   "metadata": {},
   "source": [
    "The empty files have been deleted"
   ]
  },
  {
   "cell_type": "markdown",
   "id": "a274d631",
   "metadata": {},
   "source": [
    "Next we need to change the datatypes of various columns to the specific required \n",
    "data type criteria."
   ]
  },
  {
   "cell_type": "code",
   "execution_count": 8,
   "id": "e25011f6",
   "metadata": {},
   "outputs": [],
   "source": [
    "#change the datetime datatype and extract key data such as hour, month\n",
    "\n",
    "df_bike['start_time'] = pd.to_datetime(df_bike['start_time'])\n",
    "df_bike['end_time'] = pd.to_datetime(df_bike['end_time'])\n",
    "\n",
    "df_bike['bike_id'] =df_bike.bike_id.astype(str)\n",
    "\n",
    "\n",
    "import datetime as dt\n",
    "df_bike['start_day'] = df_bike['start_time'].dt.day_name()\n",
    "df_bike['start_month'] = df_bike['start_time'].dt.month_name()\n",
    "# bike['start_year'] = bike['start_time'].dt.year\n",
    "df_bike['start_hr'] = df_bike['start_time'].dt.hour\n",
    "df_bike['start_hr'] = df_bike.start_hr.astype(str)\n",
    "\n",
    "\n",
    "\n",
    "\n",
    "df_bike['end_day'] = df_bike['end_time'].dt.day_name()\n",
    "df_bike['end_month'] = df_bike['end_time'].dt.month_name()\n",
    "df_bike['end_hr'] = df_bike['end_time'].dt.hour\n",
    "df_bike['end_hr'] = df_bike.end_hr.astype(str)"
   ]
  },
  {
   "cell_type": "code",
   "execution_count": 9,
   "id": "7e63b18f",
   "metadata": {},
   "outputs": [
    {
     "name": "stdout",
     "output_type": "stream",
     "text": [
      "<class 'pandas.core.frame.DataFrame'>\n",
      "Int64Index: 174952 entries, 0 to 183411\n",
      "Data columns (total 22 columns):\n",
      " #   Column                   Non-Null Count   Dtype         \n",
      "---  ------                   --------------   -----         \n",
      " 0   duration_sec             174952 non-null  int64         \n",
      " 1   start_time               174952 non-null  datetime64[ns]\n",
      " 2   end_time                 174952 non-null  datetime64[ns]\n",
      " 3   start_station_id         174952 non-null  float64       \n",
      " 4   start_station_name       174952 non-null  object        \n",
      " 5   start_station_latitude   174952 non-null  float64       \n",
      " 6   start_station_longitude  174952 non-null  float64       \n",
      " 7   end_station_id           174952 non-null  float64       \n",
      " 8   end_station_name         174952 non-null  object        \n",
      " 9   end_station_latitude     174952 non-null  float64       \n",
      " 10  end_station_longitude    174952 non-null  float64       \n",
      " 11  bike_id                  174952 non-null  object        \n",
      " 12  user_type                174952 non-null  object        \n",
      " 13  member_birth_year        174952 non-null  float64       \n",
      " 14  member_gender            174952 non-null  object        \n",
      " 15  bike_share_for_all_trip  174952 non-null  object        \n",
      " 16  start_day                174952 non-null  object        \n",
      " 17  start_month              174952 non-null  object        \n",
      " 18  start_hr                 174952 non-null  object        \n",
      " 19  end_day                  174952 non-null  object        \n",
      " 20  end_month                174952 non-null  object        \n",
      " 21  end_hr                   174952 non-null  object        \n",
      "dtypes: datetime64[ns](2), float64(7), int64(1), object(12)\n",
      "memory usage: 30.7+ MB\n"
     ]
    }
   ],
   "source": [
    "df_bike.info()"
   ]
  },
  {
   "cell_type": "code",
   "execution_count": 12,
   "id": "ec1ff094",
   "metadata": {},
   "outputs": [],
   "source": [
    "#Change the color into categorical variables\n",
    "\n",
    "ordinal_var_dict = {'start_day': ['Monday','Tuesday','Wednesday','Thursday','Friday', 'Saturday', 'Sunday'],\n",
    "                    'end_day': ['Monday','Tuesday','Wednesday','Thursday','Friday', 'Saturday', 'Sunday'],\n",
    "                   'start_hr': [str(i) for i in range(0,24)],\n",
    "                   'end_hr': [str(i) for i in range(0,24)]}\n",
    "\n",
    "for var in ordinal_var_dict:\n",
    "    ordered_var = pd.api.types.CategoricalDtype(ordered = True,\n",
    "                                                categories = ordinal_var_dict[var])\n",
    "    df_bike[var] = df_bike[var].astype(ordered_var)"
   ]
  },
  {
   "cell_type": "markdown",
   "id": "c42646f8",
   "metadata": {},
   "source": [
    "# Bike User Type Comparison"
   ]
  },
  {
   "cell_type": "code",
   "execution_count": 14,
   "id": "4f3a1d5c",
   "metadata": {},
   "outputs": [
    {
     "data": {
      "image/png": "[encoded data removed]",
      "text/plain": [
       "<Figure size 432x288 with 1 Axes>"
      ]
     },
     "metadata": {
      "needs_background": "light"
     },
     "output_type": "display_data"
    }
   ],
   "source": [
    "ax = sb.countplot(data = df_bike, x = 'user_type',  color=sb.color_palette()[0], order=df_bike.user_type.value_counts().index)\n",
    "\n",
    "total = len(df_bike)\n",
    "for p in ax.patches:\n",
    "    percentage = '{:.3f}%'.format(100 * p.get_height()/total)\n",
    "    x = p.get_x() + p.get_width()/2\n",
    "    y = p.get_height()+.06\n",
    "    ax.annotate(percentage, (x, y),ha='center')\n",
    "plt.xlabel('User Type')\n",
    "plt.title('Ride Frequency by User Type');"
   ]
  },
  {
   "cell_type": "markdown",
   "id": "1d0471e3",
   "metadata": {},
   "source": [
    "Subscribers account for a large percentage compared to customers.\n",
    "Subscribers have a percentange of 90% compared to customers of 9%."
   ]
  },
  {
   "cell_type": "markdown",
   "id": "7647997b",
   "metadata": {},
   "source": [
    "# Trip duration of Bike Rides per Days"
   ]
  },
  {
   "cell_type": "code",
   "execution_count": 15,
   "id": "192b7007",
   "metadata": {},
   "outputs": [
    {
     "data": {
      "image/png": "[encoded data removed]",
      "text/plain": [
       "<Figure size 720x360 with 1 Axes>"
      ]
     },
     "metadata": {
      "needs_background": "light"
     },
     "output_type": "display_data"
    }
   ],
   "source": [
    "plt.figure(figsize = (10,5))\n",
    "sb.countplot(data = df_bike, x = 'start_day', color = sb.color_palette()[0])\n",
    "plt.xlabel('Days of the week')\n",
    "plt.title('Ride Frequency by Days');"
   ]
  },
  {
   "cell_type": "markdown",
   "id": "d39c827b",
   "metadata": {},
   "source": [
    "From the plot , a high frequency of rides were taken on Thursday and Tuesday.\n",
    "On the weekdays we have a higher frequency compared to weekends which has\n",
    "a lower trip records."
   ]
  },
  {
   "cell_type": "markdown",
   "id": "5ff3e0a3",
   "metadata": {},
   "source": [
    "# Trips Duration Frequency per Hours"
   ]
  },
  {
   "cell_type": "code",
   "execution_count": 16,
   "id": "e0d4d18f",
   "metadata": {
    "scrolled": true
   },
   "outputs": [
    {
     "data": {
      "image/png": "[encoded data removed]",
      "text/plain": [
       "<Figure size 720x432 with 1 Axes>"
      ]
     },
     "metadata": {
      "needs_background": "light"
     },
     "output_type": "display_data"
    }
   ],
   "source": [
    "plt.figure(figsize = (10,6))\n",
    "sb.countplot(data = df_bike, x = 'start_hr', color = sb.color_palette()[0])\n",
    "plt.xlabel('Hours of the Day')\n",
    "plt.title('Ride Frequency by Hours');\n"
   ]
  },
  {
   "cell_type": "markdown",
   "id": "55c81c54",
   "metadata": {},
   "source": [
    "In the morning hours of 8th and 9th hours we have very high frequencies of bike \n",
    "rides.During the evening hours of 17th and 18 th hours we also have a high number of \n",
    "frequencies "
   ]
  },
  {
   "cell_type": "markdown",
   "id": "393843e0",
   "metadata": {},
   "source": [
    "# Trip Duration in relation to Customer Types and Days"
   ]
  },
  {
   "cell_type": "code",
   "execution_count": 23,
   "id": "30a9b3fd",
   "metadata": {},
   "outputs": [
    {
     "data": {
      "image/png": "[encoded data removed]",
      "text/plain": [
       "<Figure size 720x360 with 1 Axes>"
      ]
     },
     "metadata": {
      "needs_background": "light"
     },
     "output_type": "display_data"
    }
   ],
   "source": [
    "fig = plt.figure(figsize = [10,5])\n",
    "ax = sb.pointplot(data = df_bike, x ='start_day', y = 'duration_sec', hue = 'user_type',\n",
    "           palette = 'Blues', linestyles = '', dodge = 0.6)\n",
    "plt.xlabel('User Type')\n",
    "plt.ylabel('Days of the Week')\n",
    "plt.title('Trip Duration per User Type')\n",
    "# plt.yscale('log')\n",
    "# plt.yticks([2e3, 4e3, 6e3, 1e4], ['2k', '4k', '6k', '10k'])\n",
    "ax.set_yticklabels([],minor = True);"
   ]
  },
  {
   "cell_type": "markdown",
   "id": "66ce744a",
   "metadata": {},
   "source": [
    "The customer trips do uptake a long duration in respect to the days of the week,\n",
    "but mostly on weekends the duration is longer. Subscribers do take a shorter distance compared\n",
    "to customers where we have an increase over the weekends for the subscribers."
   ]
  },
  {
   "cell_type": "markdown",
   "id": "fa3cef59",
   "metadata": {},
   "source": [
    "# Presentation & Slideshow"
   ]
  },
  {
   "cell_type": "markdown",
   "id": "1d0ed4e0",
   "metadata": {},
   "source": [
    "User type has an effect on the use of the bike services.The subscribers have a \n",
    "\n",
    "higher frequency at peak hours, while customers have a more flexible time.As per the \n",
    "\n",
    "days of use, the subscribers do use the services in weekdays."
   ]
  },
  {
   "cell_type": "code",
   "execution_count": null,
   "id": "aa3db996",
   "metadata": {},
   "outputs": [],
   "source": []
  }
 ],
 "metadata": {
  "kernelspec": {
   "display_name": "Python 3 (ipykernel)",
   "language": "python",
   "name": "python3"
  },
  "language_info": {
   "codemirror_mode": {
    "name": "ipython",
    "version": 3
   },
   "file_extension": ".py",
   "mimetype": "text/x-python",
   "name": "python",
   "nbconvert_exporter": "python",
   "pygments_lexer": "ipython3",
   "version": "3.9.12"
  }
 },
 "nbformat": 4,
 "nbformat_minor": 5
}
