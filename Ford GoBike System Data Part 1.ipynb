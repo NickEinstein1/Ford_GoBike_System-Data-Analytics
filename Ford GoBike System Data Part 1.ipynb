{
 "cells": [
  {
   "cell_type": "markdown",
   "id": "011874d5",
   "metadata": {},
   "source": [
    "# Part 1 - Dataset Exploration "
   ]
  },
  {
   "cell_type": "markdown",
   "id": "69a3808b",
   "metadata": {},
   "source": [
    "# Ford GoBike System Data"
   ]
  },
  {
   "cell_type": "markdown",
   "id": "816cc509",
   "metadata": {},
   "source": [
    "# Nick Mwaura"
   ]
  },
  {
   "cell_type": "markdown",
   "id": "b849bed9",
   "metadata": {},
   "source": [
    "This document explores the dataset ford Gobike system that contains information about individual rides made in a bike sharing \n",
    "sharing system covering the San Francisco Bay area."
   ]
  },
  {
   "cell_type": "markdown",
   "id": "4ff9c0e0",
   "metadata": {},
   "source": [
    "# Preliminary Wrangling"
   ]
  },
  {
   "cell_type": "code",
   "execution_count": 1,
   "id": "948c1b7b",
   "metadata": {},
   "outputs": [],
   "source": [
    "# Here we begin by importing all packages and set plots to be embedded inline\n",
    "\n",
    "import numpy as np\n",
    "import pandas as pd\n",
    "import matplotlib.pyplot as plt\n",
    "import seaborn as sb\n",
    "\n",
    "%matplotlib inline"
   ]
  },
  {
   "cell_type": "markdown",
   "id": "7df4b796",
   "metadata": {},
   "source": [
    "Next we load the dataset and describe its properties."
   ]
  },
  {
   "cell_type": "code",
   "execution_count": 2,
   "id": "7f26d140",
   "metadata": {},
   "outputs": [],
   "source": [
    "# load in the dataset into a pd dataframe\n",
    "df_bike = pd.read_csv('201902-fordgobike-tripdata.csv')"
   ]
  },
  {
   "cell_type": "code",
   "execution_count": 3,
   "id": "4f5ed8fc",
   "metadata": {},
   "outputs": [
    {
     "name": "stdout",
     "output_type": "stream",
     "text": [
      "(183412, 16)\n"
     ]
    }
   ],
   "source": [
    "print (df_bike.shape)"
   ]
  },
  {
   "cell_type": "markdown",
   "id": "fa624b8f",
   "metadata": {},
   "source": [
    "The file has 183412 entries and 16 columns "
   ]
  },
  {
   "cell_type": "code",
   "execution_count": 4,
   "id": "cce2c5a3",
   "metadata": {},
   "outputs": [
    {
     "name": "stdout",
     "output_type": "stream",
     "text": [
      "<class 'pandas.core.frame.DataFrame'>\n",
      "RangeIndex: 183412 entries, 0 to 183411\n",
      "Data columns (total 16 columns):\n",
      " #   Column                   Non-Null Count   Dtype  \n",
      "---  ------                   --------------   -----  \n",
      " 0   duration_sec             183412 non-null  int64  \n",
      " 1   start_time               183412 non-null  object \n",
      " 2   end_time                 183412 non-null  object \n",
      " 3   start_station_id         183215 non-null  float64\n",
      " 4   start_station_name       183215 non-null  object \n",
      " 5   start_station_latitude   183412 non-null  float64\n",
      " 6   start_station_longitude  183412 non-null  float64\n",
      " 7   end_station_id           183215 non-null  float64\n",
      " 8   end_station_name         183215 non-null  object \n",
      " 9   end_station_latitude     183412 non-null  float64\n",
      " 10  end_station_longitude    183412 non-null  float64\n",
      " 11  bike_id                  183412 non-null  int64  \n",
      " 12  user_type                183412 non-null  object \n",
      " 13  member_birth_year        175147 non-null  float64\n",
      " 14  member_gender            175147 non-null  object \n",
      " 15  bike_share_for_all_trip  183412 non-null  object \n",
      "dtypes: float64(7), int64(2), object(7)\n",
      "memory usage: 22.4+ MB\n",
      "None\n"
     ]
    }
   ],
   "source": [
    "print(df_bike.info())"
   ]
  },
  {
   "cell_type": "code",
   "execution_count": 5,
   "id": "fa607c72",
   "metadata": {},
   "outputs": [
    {
     "name": "stdout",
     "output_type": "stream",
     "text": [
      "duration_sec                 int64\n",
      "start_time                  object\n",
      "end_time                    object\n",
      "start_station_id           float64\n",
      "start_station_name          object\n",
      "start_station_latitude     float64\n",
      "start_station_longitude    float64\n",
      "end_station_id             float64\n",
      "end_station_name            object\n",
      "end_station_latitude       float64\n",
      "end_station_longitude      float64\n",
      "bike_id                      int64\n",
      "user_type                   object\n",
      "member_birth_year          float64\n",
      "member_gender               object\n",
      "bike_share_for_all_trip     object\n",
      "dtype: object\n"
     ]
    }
   ],
   "source": [
    "print(df_bike.dtypes)"
   ]
  },
  {
   "cell_type": "markdown",
   "id": "0bcbd223",
   "metadata": {},
   "source": [
    "This are the listed datatypes of the dataset."
   ]
  },
  {
   "cell_type": "code",
   "execution_count": 6,
   "id": "874db508",
   "metadata": {},
   "outputs": [
    {
     "data": {
      "text/html": [
       "<div>\n",
       "<style scoped>\n",
       "    .dataframe tbody tr th:only-of-type {\n",
       "        vertical-align: middle;\n",
       "    }\n",
       "\n",
       "    .dataframe tbody tr th {\n",
       "        vertical-align: top;\n",
       "    }\n",
       "\n",
       "    .dataframe thead th {\n",
       "        text-align: right;\n",
       "    }\n",
       "</style>\n",
       "<table border=\"1\" class=\"dataframe\">\n",
       "  <thead>\n",
       "    <tr style=\"text-align: right;\">\n",
       "      <th></th>\n",
       "      <th>duration_sec</th>\n",
       "      <th>start_time</th>\n",
       "      <th>end_time</th>\n",
       "      <th>start_station_id</th>\n",
       "      <th>start_station_name</th>\n",
       "      <th>start_station_latitude</th>\n",
       "      <th>start_station_longitude</th>\n",
       "      <th>end_station_id</th>\n",
       "      <th>end_station_name</th>\n",
       "      <th>end_station_latitude</th>\n",
       "      <th>end_station_longitude</th>\n",
       "      <th>bike_id</th>\n",
       "      <th>user_type</th>\n",
       "      <th>member_birth_year</th>\n",
       "      <th>member_gender</th>\n",
       "      <th>bike_share_for_all_trip</th>\n",
       "    </tr>\n",
       "  </thead>\n",
       "  <tbody>\n",
       "    <tr>\n",
       "      <th>0</th>\n",
       "      <td>52185</td>\n",
       "      <td>2019-02-28 17:32:10.1450</td>\n",
       "      <td>2019-03-01 08:01:55.9750</td>\n",
       "      <td>21.0</td>\n",
       "      <td>Montgomery St BART Station (Market St at 2nd St)</td>\n",
       "      <td>37.789625</td>\n",
       "      <td>-122.400811</td>\n",
       "      <td>13.0</td>\n",
       "      <td>Commercial St at Montgomery St</td>\n",
       "      <td>37.794231</td>\n",
       "      <td>-122.402923</td>\n",
       "      <td>4902</td>\n",
       "      <td>Customer</td>\n",
       "      <td>1984.0</td>\n",
       "      <td>Male</td>\n",
       "      <td>No</td>\n",
       "    </tr>\n",
       "    <tr>\n",
       "      <th>1</th>\n",
       "      <td>42521</td>\n",
       "      <td>2019-02-28 18:53:21.7890</td>\n",
       "      <td>2019-03-01 06:42:03.0560</td>\n",
       "      <td>23.0</td>\n",
       "      <td>The Embarcadero at Steuart St</td>\n",
       "      <td>37.791464</td>\n",
       "      <td>-122.391034</td>\n",
       "      <td>81.0</td>\n",
       "      <td>Berry St at 4th St</td>\n",
       "      <td>37.775880</td>\n",
       "      <td>-122.393170</td>\n",
       "      <td>2535</td>\n",
       "      <td>Customer</td>\n",
       "      <td>NaN</td>\n",
       "      <td>NaN</td>\n",
       "      <td>No</td>\n",
       "    </tr>\n",
       "    <tr>\n",
       "      <th>2</th>\n",
       "      <td>61854</td>\n",
       "      <td>2019-02-28 12:13:13.2180</td>\n",
       "      <td>2019-03-01 05:24:08.1460</td>\n",
       "      <td>86.0</td>\n",
       "      <td>Market St at Dolores St</td>\n",
       "      <td>37.769305</td>\n",
       "      <td>-122.426826</td>\n",
       "      <td>3.0</td>\n",
       "      <td>Powell St BART Station (Market St at 4th St)</td>\n",
       "      <td>37.786375</td>\n",
       "      <td>-122.404904</td>\n",
       "      <td>5905</td>\n",
       "      <td>Customer</td>\n",
       "      <td>1972.0</td>\n",
       "      <td>Male</td>\n",
       "      <td>No</td>\n",
       "    </tr>\n",
       "    <tr>\n",
       "      <th>3</th>\n",
       "      <td>36490</td>\n",
       "      <td>2019-02-28 17:54:26.0100</td>\n",
       "      <td>2019-03-01 04:02:36.8420</td>\n",
       "      <td>375.0</td>\n",
       "      <td>Grove St at Masonic Ave</td>\n",
       "      <td>37.774836</td>\n",
       "      <td>-122.446546</td>\n",
       "      <td>70.0</td>\n",
       "      <td>Central Ave at Fell St</td>\n",
       "      <td>37.773311</td>\n",
       "      <td>-122.444293</td>\n",
       "      <td>6638</td>\n",
       "      <td>Subscriber</td>\n",
       "      <td>1989.0</td>\n",
       "      <td>Other</td>\n",
       "      <td>No</td>\n",
       "    </tr>\n",
       "  </tbody>\n",
       "</table>\n",
       "</div>"
      ],
      "text/plain": [
       "   duration_sec                start_time                  end_time  \\\n",
       "0         52185  2019-02-28 17:32:10.1450  2019-03-01 08:01:55.9750   \n",
       "1         42521  2019-02-28 18:53:21.7890  2019-03-01 06:42:03.0560   \n",
       "2         61854  2019-02-28 12:13:13.2180  2019-03-01 05:24:08.1460   \n",
       "3         36490  2019-02-28 17:54:26.0100  2019-03-01 04:02:36.8420   \n",
       "\n",
       "   start_station_id                                start_station_name  \\\n",
       "0              21.0  Montgomery St BART Station (Market St at 2nd St)   \n",
       "1              23.0                     The Embarcadero at Steuart St   \n",
       "2              86.0                           Market St at Dolores St   \n",
       "3             375.0                           Grove St at Masonic Ave   \n",
       "\n",
       "   start_station_latitude  start_station_longitude  end_station_id  \\\n",
       "0               37.789625              -122.400811            13.0   \n",
       "1               37.791464              -122.391034            81.0   \n",
       "2               37.769305              -122.426826             3.0   \n",
       "3               37.774836              -122.446546            70.0   \n",
       "\n",
       "                               end_station_name  end_station_latitude  \\\n",
       "0                Commercial St at Montgomery St             37.794231   \n",
       "1                            Berry St at 4th St             37.775880   \n",
       "2  Powell St BART Station (Market St at 4th St)             37.786375   \n",
       "3                        Central Ave at Fell St             37.773311   \n",
       "\n",
       "   end_station_longitude  bike_id   user_type  member_birth_year  \\\n",
       "0            -122.402923     4902    Customer             1984.0   \n",
       "1            -122.393170     2535    Customer                NaN   \n",
       "2            -122.404904     5905    Customer             1972.0   \n",
       "3            -122.444293     6638  Subscriber             1989.0   \n",
       "\n",
       "  member_gender bike_share_for_all_trip  \n",
       "0          Male                      No  \n",
       "1           NaN                      No  \n",
       "2          Male                      No  \n",
       "3         Other                      No  "
      ]
     },
     "execution_count": 6,
     "metadata": {},
     "output_type": "execute_result"
    }
   ],
   "source": [
    "df_bike.head(4)"
   ]
  },
  {
   "cell_type": "code",
   "execution_count": 7,
   "id": "93eb78cf",
   "metadata": {},
   "outputs": [
    {
     "data": {
      "text/plain": [
       "duration_sec                  0\n",
       "start_time                    0\n",
       "end_time                      0\n",
       "start_station_id            197\n",
       "start_station_name          197\n",
       "start_station_latitude        0\n",
       "start_station_longitude       0\n",
       "end_station_id              197\n",
       "end_station_name            197\n",
       "end_station_latitude          0\n",
       "end_station_longitude         0\n",
       "bike_id                       0\n",
       "user_type                     0\n",
       "member_birth_year          8265\n",
       "member_gender              8265\n",
       "bike_share_for_all_trip       0\n",
       "dtype: int64"
      ]
     },
     "execution_count": 7,
     "metadata": {},
     "output_type": "execute_result"
    }
   ],
   "source": [
    "# Check null value for each column\n",
    "df_bike.isna().sum()\n"
   ]
  },
  {
   "cell_type": "markdown",
   "id": "653d114e",
   "metadata": {},
   "source": [
    "The are missing values in start_station_id, start_station_name,end_station_id,end_station_name,member_birth_year,member_gender columns."
   ]
  },
  {
   "cell_type": "markdown",
   "id": "770b68c0",
   "metadata": {},
   "source": [
    "# Data Cleaning"
   ]
  },
  {
   "cell_type": "markdown",
   "id": "db5e58d3",
   "metadata": {},
   "source": [
    "The first issue with our dataset os that it contains missing values as shown above.\n",
    "\n",
    "We need to drop the rows with missing values."
   ]
  },
  {
   "cell_type": "markdown",
   "id": "8a33a55d",
   "metadata": {},
   "source": [
    "# 1) Remove the missing values"
   ]
  },
  {
   "cell_type": "code",
   "execution_count": 8,
   "id": "0f5a8c38",
   "metadata": {},
   "outputs": [],
   "source": [
    "df_bike.dropna(inplace=True)"
   ]
  },
  {
   "cell_type": "markdown",
   "id": "5ba19091",
   "metadata": {},
   "source": [
    "We need to check that all missing values are deleted"
   ]
  },
  {
   "cell_type": "code",
   "execution_count": 9,
   "id": "a101cd5c",
   "metadata": {},
   "outputs": [
    {
     "data": {
      "text/plain": [
       "duration_sec               0\n",
       "start_time                 0\n",
       "end_time                   0\n",
       "start_station_id           0\n",
       "start_station_name         0\n",
       "start_station_latitude     0\n",
       "start_station_longitude    0\n",
       "end_station_id             0\n",
       "end_station_name           0\n",
       "end_station_latitude       0\n",
       "end_station_longitude      0\n",
       "bike_id                    0\n",
       "user_type                  0\n",
       "member_birth_year          0\n",
       "member_gender              0\n",
       "bike_share_for_all_trip    0\n",
       "dtype: int64"
      ]
     },
     "execution_count": 9,
     "metadata": {},
     "output_type": "execute_result"
    }
   ],
   "source": [
    "df_bike.isna().sum()\n"
   ]
  },
  {
   "cell_type": "raw",
   "id": "ca584c68",
   "metadata": {},
   "source": [
    "There are no missing values present in our dataset."
   ]
  },
  {
   "cell_type": "markdown",
   "id": "fccb1ee6",
   "metadata": {},
   "source": [
    "# 2) Convert the columns datatypes of time to datetime datatypes."
   ]
  },
  {
   "cell_type": "markdown",
   "id": "77ccd4a4",
   "metadata": {},
   "source": [
    "The next issue relates to the data types of the start_time and end_time columns which \n",
    "are in string (object).\n",
    "\n",
    "We  need to convert the columns to datetime."
   ]
  },
  {
   "cell_type": "code",
   "execution_count": 10,
   "id": "7242b54d",
   "metadata": {},
   "outputs": [],
   "source": [
    "df_bike['start_time'] = pd.to_datetime(df_bike['start_time'])\n",
    "df_bike['end_time'] = pd.to_datetime(df_bike['end_time'])"
   ]
  },
  {
   "cell_type": "markdown",
   "id": "f74e46ae",
   "metadata": {},
   "source": [
    "# 3) Convert the column bike_id from int64 type to object datatype"
   ]
  },
  {
   "cell_type": "code",
   "execution_count": 11,
   "id": "d36a7716",
   "metadata": {},
   "outputs": [],
   "source": [
    "df_bike['bike_id'] =df_bike.bike_id.astype(str)"
   ]
  },
  {
   "cell_type": "markdown",
   "id": "86c8aa29",
   "metadata": {},
   "source": [
    "We need to confirm our changes"
   ]
  },
  {
   "cell_type": "code",
   "execution_count": 12,
   "id": "5e34f74c",
   "metadata": {},
   "outputs": [
    {
     "data": {
      "text/plain": [
       "str"
      ]
     },
     "execution_count": 12,
     "metadata": {},
     "output_type": "execute_result"
    }
   ],
   "source": [
    "type(df_bike['bike_id'][0])"
   ]
  },
  {
   "cell_type": "markdown",
   "id": "5c845547",
   "metadata": {},
   "source": [
    "# 4)Convert the user_type datatype from object to category dtype"
   ]
  },
  {
   "cell_type": "code",
   "execution_count": 13,
   "id": "6c4edf39",
   "metadata": {},
   "outputs": [],
   "source": [
    "df_bike['user_type'] =df_bike.user_type.astype('category')"
   ]
  },
  {
   "cell_type": "code",
   "execution_count": 14,
   "id": "4c332838",
   "metadata": {},
   "outputs": [
    {
     "data": {
      "text/plain": [
       "str"
      ]
     },
     "execution_count": 14,
     "metadata": {},
     "output_type": "execute_result"
    }
   ],
   "source": [
    "type(df_bike['user_type'][0])"
   ]
  },
  {
   "cell_type": "code",
   "execution_count": 15,
   "id": "ad21a184",
   "metadata": {},
   "outputs": [
    {
     "name": "stdout",
     "output_type": "stream",
     "text": [
      "<class 'pandas.core.frame.DataFrame'>\n",
      "Int64Index: 174952 entries, 0 to 183411\n",
      "Data columns (total 16 columns):\n",
      " #   Column                   Non-Null Count   Dtype         \n",
      "---  ------                   --------------   -----         \n",
      " 0   duration_sec             174952 non-null  int64         \n",
      " 1   start_time               174952 non-null  datetime64[ns]\n",
      " 2   end_time                 174952 non-null  datetime64[ns]\n",
      " 3   start_station_id         174952 non-null  float64       \n",
      " 4   start_station_name       174952 non-null  object        \n",
      " 5   start_station_latitude   174952 non-null  float64       \n",
      " 6   start_station_longitude  174952 non-null  float64       \n",
      " 7   end_station_id           174952 non-null  float64       \n",
      " 8   end_station_name         174952 non-null  object        \n",
      " 9   end_station_latitude     174952 non-null  float64       \n",
      " 10  end_station_longitude    174952 non-null  float64       \n",
      " 11  bike_id                  174952 non-null  object        \n",
      " 12  user_type                174952 non-null  category      \n",
      " 13  member_birth_year        174952 non-null  float64       \n",
      " 14  member_gender            174952 non-null  object        \n",
      " 15  bike_share_for_all_trip  174952 non-null  object        \n",
      "dtypes: category(1), datetime64[ns](2), float64(7), int64(1), object(5)\n",
      "memory usage: 25.6+ MB\n"
     ]
    }
   ],
   "source": [
    "# test\n",
    "df_bike.info()"
   ]
  },
  {
   "cell_type": "markdown",
   "id": "05ec8964",
   "metadata": {},
   "source": [
    "We have cleaned the quality issues realting to the data columns that we are in much need\n",
    "of which are highlighted as below:\n",
    "    \n",
    "    . Removed all missing values from our dataset.\n",
    "    . start_time and end_time columns have been changed to datetime dtype.\n",
    "    . bike_id column to object dtype.\n",
    "    . user_type column to categorical dtype."
   ]
  },
  {
   "cell_type": "markdown",
   "id": "9f197fc8",
   "metadata": {},
   "source": [
    "# Data Exploring "
   ]
  },
  {
   "cell_type": "markdown",
   "id": "78b8d744",
   "metadata": {},
   "source": [
    "Extract the day, month and year columns from the start and end date."
   ]
  },
  {
   "cell_type": "code",
   "execution_count": 16,
   "id": "88c9279d",
   "metadata": {},
   "outputs": [
    {
     "data": {
      "text/html": [
       "<div>\n",
       "<style scoped>\n",
       "    .dataframe tbody tr th:only-of-type {\n",
       "        vertical-align: middle;\n",
       "    }\n",
       "\n",
       "    .dataframe tbody tr th {\n",
       "        vertical-align: top;\n",
       "    }\n",
       "\n",
       "    .dataframe thead th {\n",
       "        text-align: right;\n",
       "    }\n",
       "</style>\n",
       "<table border=\"1\" class=\"dataframe\">\n",
       "  <thead>\n",
       "    <tr style=\"text-align: right;\">\n",
       "      <th></th>\n",
       "      <th>duration_sec</th>\n",
       "      <th>start_time</th>\n",
       "      <th>end_time</th>\n",
       "      <th>start_station_id</th>\n",
       "      <th>start_station_name</th>\n",
       "      <th>start_station_latitude</th>\n",
       "      <th>start_station_longitude</th>\n",
       "      <th>end_station_id</th>\n",
       "      <th>end_station_name</th>\n",
       "      <th>end_station_latitude</th>\n",
       "      <th>...</th>\n",
       "      <th>user_type</th>\n",
       "      <th>member_birth_year</th>\n",
       "      <th>member_gender</th>\n",
       "      <th>bike_share_for_all_trip</th>\n",
       "      <th>start_day</th>\n",
       "      <th>start_month</th>\n",
       "      <th>start_hr</th>\n",
       "      <th>end_day</th>\n",
       "      <th>end_month</th>\n",
       "      <th>end_hr</th>\n",
       "    </tr>\n",
       "  </thead>\n",
       "  <tbody>\n",
       "    <tr>\n",
       "      <th>0</th>\n",
       "      <td>52185</td>\n",
       "      <td>2019-02-28 17:32:10.145</td>\n",
       "      <td>2019-03-01 08:01:55.975</td>\n",
       "      <td>21.0</td>\n",
       "      <td>Montgomery St BART Station (Market St at 2nd St)</td>\n",
       "      <td>37.789625</td>\n",
       "      <td>-122.400811</td>\n",
       "      <td>13.0</td>\n",
       "      <td>Commercial St at Montgomery St</td>\n",
       "      <td>37.794231</td>\n",
       "      <td>...</td>\n",
       "      <td>Customer</td>\n",
       "      <td>1984.0</td>\n",
       "      <td>Male</td>\n",
       "      <td>No</td>\n",
       "      <td>Thursday</td>\n",
       "      <td>February</td>\n",
       "      <td>17</td>\n",
       "      <td>Friday</td>\n",
       "      <td>March</td>\n",
       "      <td>8</td>\n",
       "    </tr>\n",
       "    <tr>\n",
       "      <th>2</th>\n",
       "      <td>61854</td>\n",
       "      <td>2019-02-28 12:13:13.218</td>\n",
       "      <td>2019-03-01 05:24:08.146</td>\n",
       "      <td>86.0</td>\n",
       "      <td>Market St at Dolores St</td>\n",
       "      <td>37.769305</td>\n",
       "      <td>-122.426826</td>\n",
       "      <td>3.0</td>\n",
       "      <td>Powell St BART Station (Market St at 4th St)</td>\n",
       "      <td>37.786375</td>\n",
       "      <td>...</td>\n",
       "      <td>Customer</td>\n",
       "      <td>1972.0</td>\n",
       "      <td>Male</td>\n",
       "      <td>No</td>\n",
       "      <td>Thursday</td>\n",
       "      <td>February</td>\n",
       "      <td>12</td>\n",
       "      <td>Friday</td>\n",
       "      <td>March</td>\n",
       "      <td>5</td>\n",
       "    </tr>\n",
       "    <tr>\n",
       "      <th>3</th>\n",
       "      <td>36490</td>\n",
       "      <td>2019-02-28 17:54:26.010</td>\n",
       "      <td>2019-03-01 04:02:36.842</td>\n",
       "      <td>375.0</td>\n",
       "      <td>Grove St at Masonic Ave</td>\n",
       "      <td>37.774836</td>\n",
       "      <td>-122.446546</td>\n",
       "      <td>70.0</td>\n",
       "      <td>Central Ave at Fell St</td>\n",
       "      <td>37.773311</td>\n",
       "      <td>...</td>\n",
       "      <td>Subscriber</td>\n",
       "      <td>1989.0</td>\n",
       "      <td>Other</td>\n",
       "      <td>No</td>\n",
       "      <td>Thursday</td>\n",
       "      <td>February</td>\n",
       "      <td>17</td>\n",
       "      <td>Friday</td>\n",
       "      <td>March</td>\n",
       "      <td>4</td>\n",
       "    </tr>\n",
       "    <tr>\n",
       "      <th>4</th>\n",
       "      <td>1585</td>\n",
       "      <td>2019-02-28 23:54:18.549</td>\n",
       "      <td>2019-03-01 00:20:44.074</td>\n",
       "      <td>7.0</td>\n",
       "      <td>Frank H Ogawa Plaza</td>\n",
       "      <td>37.804562</td>\n",
       "      <td>-122.271738</td>\n",
       "      <td>222.0</td>\n",
       "      <td>10th Ave at E 15th St</td>\n",
       "      <td>37.792714</td>\n",
       "      <td>...</td>\n",
       "      <td>Subscriber</td>\n",
       "      <td>1974.0</td>\n",
       "      <td>Male</td>\n",
       "      <td>Yes</td>\n",
       "      <td>Thursday</td>\n",
       "      <td>February</td>\n",
       "      <td>23</td>\n",
       "      <td>Friday</td>\n",
       "      <td>March</td>\n",
       "      <td>0</td>\n",
       "    </tr>\n",
       "    <tr>\n",
       "      <th>5</th>\n",
       "      <td>1793</td>\n",
       "      <td>2019-02-28 23:49:58.632</td>\n",
       "      <td>2019-03-01 00:19:51.760</td>\n",
       "      <td>93.0</td>\n",
       "      <td>4th St at Mission Bay Blvd S</td>\n",
       "      <td>37.770407</td>\n",
       "      <td>-122.391198</td>\n",
       "      <td>323.0</td>\n",
       "      <td>Broadway at Kearny</td>\n",
       "      <td>37.798014</td>\n",
       "      <td>...</td>\n",
       "      <td>Subscriber</td>\n",
       "      <td>1959.0</td>\n",
       "      <td>Male</td>\n",
       "      <td>No</td>\n",
       "      <td>Thursday</td>\n",
       "      <td>February</td>\n",
       "      <td>23</td>\n",
       "      <td>Friday</td>\n",
       "      <td>March</td>\n",
       "      <td>0</td>\n",
       "    </tr>\n",
       "  </tbody>\n",
       "</table>\n",
       "<p>5 rows × 22 columns</p>\n",
       "</div>"
      ],
      "text/plain": [
       "   duration_sec              start_time                end_time  \\\n",
       "0         52185 2019-02-28 17:32:10.145 2019-03-01 08:01:55.975   \n",
       "2         61854 2019-02-28 12:13:13.218 2019-03-01 05:24:08.146   \n",
       "3         36490 2019-02-28 17:54:26.010 2019-03-01 04:02:36.842   \n",
       "4          1585 2019-02-28 23:54:18.549 2019-03-01 00:20:44.074   \n",
       "5          1793 2019-02-28 23:49:58.632 2019-03-01 00:19:51.760   \n",
       "\n",
       "   start_station_id                                start_station_name  \\\n",
       "0              21.0  Montgomery St BART Station (Market St at 2nd St)   \n",
       "2              86.0                           Market St at Dolores St   \n",
       "3             375.0                           Grove St at Masonic Ave   \n",
       "4               7.0                               Frank H Ogawa Plaza   \n",
       "5              93.0                      4th St at Mission Bay Blvd S   \n",
       "\n",
       "   start_station_latitude  start_station_longitude  end_station_id  \\\n",
       "0               37.789625              -122.400811            13.0   \n",
       "2               37.769305              -122.426826             3.0   \n",
       "3               37.774836              -122.446546            70.0   \n",
       "4               37.804562              -122.271738           222.0   \n",
       "5               37.770407              -122.391198           323.0   \n",
       "\n",
       "                               end_station_name  end_station_latitude  ...  \\\n",
       "0                Commercial St at Montgomery St             37.794231  ...   \n",
       "2  Powell St BART Station (Market St at 4th St)             37.786375  ...   \n",
       "3                        Central Ave at Fell St             37.773311  ...   \n",
       "4                         10th Ave at E 15th St             37.792714  ...   \n",
       "5                            Broadway at Kearny             37.798014  ...   \n",
       "\n",
       "    user_type member_birth_year member_gender  bike_share_for_all_trip  \\\n",
       "0    Customer            1984.0          Male                       No   \n",
       "2    Customer            1972.0          Male                       No   \n",
       "3  Subscriber            1989.0         Other                       No   \n",
       "4  Subscriber            1974.0          Male                      Yes   \n",
       "5  Subscriber            1959.0          Male                       No   \n",
       "\n",
       "  start_day start_month start_hr end_day end_month end_hr  \n",
       "0  Thursday    February       17  Friday     March      8  \n",
       "2  Thursday    February       12  Friday     March      5  \n",
       "3  Thursday    February       17  Friday     March      4  \n",
       "4  Thursday    February       23  Friday     March      0  \n",
       "5  Thursday    February       23  Friday     March      0  \n",
       "\n",
       "[5 rows x 22 columns]"
      ]
     },
     "execution_count": 16,
     "metadata": {},
     "output_type": "execute_result"
    }
   ],
   "source": [
    "import datetime as dt\n",
    "df_bike['start_day'] = df_bike['start_time'].dt.day_name()\n",
    "df_bike['start_month'] = df_bike['start_time'].dt.month_name()\n",
    "\n",
    "# df_bike['start_year'] = df_bike['start_time'].dt.year\n",
    "df_bike['start_hr'] = df_bike['start_time'].dt.hour\n",
    "df_bike['start_hr'] = df_bike.start_hr.astype(str)\n",
    "\n",
    "\n",
    "\n",
    "\n",
    "df_bike['end_day'] = df_bike['end_time'].dt.day_name()\n",
    "df_bike['end_month'] = df_bike['end_time'].dt.month_name()\n",
    "df_bike['end_hr'] = df_bike['end_time'].dt.hour\n",
    "df_bike['end_hr'] = df_bike.end_hr.astype(str)\n",
    "\n",
    "# bike['start_year'] = bike['start_time'].dt.year\n",
    "df_bike.head(5)"
   ]
  },
  {
   "cell_type": "code",
   "execution_count": 17,
   "id": "0547d6c3",
   "metadata": {},
   "outputs": [
    {
     "data": {
      "text/plain": [
       "count    174952.000000\n",
       "mean        704.002744\n",
       "std        1642.204905\n",
       "min          61.000000\n",
       "25%         323.000000\n",
       "50%         510.000000\n",
       "75%         789.000000\n",
       "max       84548.000000\n",
       "Name: duration_sec, dtype: float64"
      ]
     },
     "execution_count": 17,
     "metadata": {},
     "output_type": "execute_result"
    }
   ],
   "source": [
    "# We need to describe statistics for the variable (duration_sec)\n",
    "df_bike.duration_sec.describe()"
   ]
  },
  {
   "cell_type": "code",
   "execution_count": 18,
   "id": "80b0253d",
   "metadata": {},
   "outputs": [
    {
     "data": {
      "text/html": [
       "<div>\n",
       "<style scoped>\n",
       "    .dataframe tbody tr th:only-of-type {\n",
       "        vertical-align: middle;\n",
       "    }\n",
       "\n",
       "    .dataframe tbody tr th {\n",
       "        vertical-align: top;\n",
       "    }\n",
       "\n",
       "    .dataframe thead th {\n",
       "        text-align: right;\n",
       "    }\n",
       "</style>\n",
       "<table border=\"1\" class=\"dataframe\">\n",
       "  <thead>\n",
       "    <tr style=\"text-align: right;\">\n",
       "      <th></th>\n",
       "      <th>duration_sec</th>\n",
       "      <th>start_time</th>\n",
       "      <th>end_time</th>\n",
       "      <th>start_station_id</th>\n",
       "      <th>start_station_name</th>\n",
       "      <th>start_station_latitude</th>\n",
       "      <th>start_station_longitude</th>\n",
       "      <th>end_station_id</th>\n",
       "      <th>end_station_name</th>\n",
       "      <th>end_station_latitude</th>\n",
       "      <th>...</th>\n",
       "      <th>user_type</th>\n",
       "      <th>member_birth_year</th>\n",
       "      <th>member_gender</th>\n",
       "      <th>bike_share_for_all_trip</th>\n",
       "      <th>start_day</th>\n",
       "      <th>start_month</th>\n",
       "      <th>start_hr</th>\n",
       "      <th>end_day</th>\n",
       "      <th>end_month</th>\n",
       "      <th>end_hr</th>\n",
       "    </tr>\n",
       "  </thead>\n",
       "  <tbody>\n",
       "    <tr>\n",
       "      <th>0</th>\n",
       "      <td>52185</td>\n",
       "      <td>2019-02-28 17:32:10.145</td>\n",
       "      <td>2019-03-01 08:01:55.975</td>\n",
       "      <td>21.0</td>\n",
       "      <td>Montgomery St BART Station (Market St at 2nd St)</td>\n",
       "      <td>37.789625</td>\n",
       "      <td>-122.400811</td>\n",
       "      <td>13.0</td>\n",
       "      <td>Commercial St at Montgomery St</td>\n",
       "      <td>37.794231</td>\n",
       "      <td>...</td>\n",
       "      <td>Customer</td>\n",
       "      <td>1984.0</td>\n",
       "      <td>Male</td>\n",
       "      <td>No</td>\n",
       "      <td>Thursday</td>\n",
       "      <td>February</td>\n",
       "      <td>17</td>\n",
       "      <td>Friday</td>\n",
       "      <td>March</td>\n",
       "      <td>8</td>\n",
       "    </tr>\n",
       "    <tr>\n",
       "      <th>2</th>\n",
       "      <td>61854</td>\n",
       "      <td>2019-02-28 12:13:13.218</td>\n",
       "      <td>2019-03-01 05:24:08.146</td>\n",
       "      <td>86.0</td>\n",
       "      <td>Market St at Dolores St</td>\n",
       "      <td>37.769305</td>\n",
       "      <td>-122.426826</td>\n",
       "      <td>3.0</td>\n",
       "      <td>Powell St BART Station (Market St at 4th St)</td>\n",
       "      <td>37.786375</td>\n",
       "      <td>...</td>\n",
       "      <td>Customer</td>\n",
       "      <td>1972.0</td>\n",
       "      <td>Male</td>\n",
       "      <td>No</td>\n",
       "      <td>Thursday</td>\n",
       "      <td>February</td>\n",
       "      <td>12</td>\n",
       "      <td>Friday</td>\n",
       "      <td>March</td>\n",
       "      <td>5</td>\n",
       "    </tr>\n",
       "    <tr>\n",
       "      <th>3</th>\n",
       "      <td>36490</td>\n",
       "      <td>2019-02-28 17:54:26.010</td>\n",
       "      <td>2019-03-01 04:02:36.842</td>\n",
       "      <td>375.0</td>\n",
       "      <td>Grove St at Masonic Ave</td>\n",
       "      <td>37.774836</td>\n",
       "      <td>-122.446546</td>\n",
       "      <td>70.0</td>\n",
       "      <td>Central Ave at Fell St</td>\n",
       "      <td>37.773311</td>\n",
       "      <td>...</td>\n",
       "      <td>Subscriber</td>\n",
       "      <td>1989.0</td>\n",
       "      <td>Other</td>\n",
       "      <td>No</td>\n",
       "      <td>Thursday</td>\n",
       "      <td>February</td>\n",
       "      <td>17</td>\n",
       "      <td>Friday</td>\n",
       "      <td>March</td>\n",
       "      <td>4</td>\n",
       "    </tr>\n",
       "    <tr>\n",
       "      <th>4</th>\n",
       "      <td>1585</td>\n",
       "      <td>2019-02-28 23:54:18.549</td>\n",
       "      <td>2019-03-01 00:20:44.074</td>\n",
       "      <td>7.0</td>\n",
       "      <td>Frank H Ogawa Plaza</td>\n",
       "      <td>37.804562</td>\n",
       "      <td>-122.271738</td>\n",
       "      <td>222.0</td>\n",
       "      <td>10th Ave at E 15th St</td>\n",
       "      <td>37.792714</td>\n",
       "      <td>...</td>\n",
       "      <td>Subscriber</td>\n",
       "      <td>1974.0</td>\n",
       "      <td>Male</td>\n",
       "      <td>Yes</td>\n",
       "      <td>Thursday</td>\n",
       "      <td>February</td>\n",
       "      <td>23</td>\n",
       "      <td>Friday</td>\n",
       "      <td>March</td>\n",
       "      <td>0</td>\n",
       "    </tr>\n",
       "    <tr>\n",
       "      <th>5</th>\n",
       "      <td>1793</td>\n",
       "      <td>2019-02-28 23:49:58.632</td>\n",
       "      <td>2019-03-01 00:19:51.760</td>\n",
       "      <td>93.0</td>\n",
       "      <td>4th St at Mission Bay Blvd S</td>\n",
       "      <td>37.770407</td>\n",
       "      <td>-122.391198</td>\n",
       "      <td>323.0</td>\n",
       "      <td>Broadway at Kearny</td>\n",
       "      <td>37.798014</td>\n",
       "      <td>...</td>\n",
       "      <td>Subscriber</td>\n",
       "      <td>1959.0</td>\n",
       "      <td>Male</td>\n",
       "      <td>No</td>\n",
       "      <td>Thursday</td>\n",
       "      <td>February</td>\n",
       "      <td>23</td>\n",
       "      <td>Friday</td>\n",
       "      <td>March</td>\n",
       "      <td>0</td>\n",
       "    </tr>\n",
       "    <tr>\n",
       "      <th>...</th>\n",
       "      <td>...</td>\n",
       "      <td>...</td>\n",
       "      <td>...</td>\n",
       "      <td>...</td>\n",
       "      <td>...</td>\n",
       "      <td>...</td>\n",
       "      <td>...</td>\n",
       "      <td>...</td>\n",
       "      <td>...</td>\n",
       "      <td>...</td>\n",
       "      <td>...</td>\n",
       "      <td>...</td>\n",
       "      <td>...</td>\n",
       "      <td>...</td>\n",
       "      <td>...</td>\n",
       "      <td>...</td>\n",
       "      <td>...</td>\n",
       "      <td>...</td>\n",
       "      <td>...</td>\n",
       "      <td>...</td>\n",
       "      <td>...</td>\n",
       "    </tr>\n",
       "    <tr>\n",
       "      <th>183407</th>\n",
       "      <td>480</td>\n",
       "      <td>2019-02-01 00:04:49.724</td>\n",
       "      <td>2019-02-01 00:12:50.034</td>\n",
       "      <td>27.0</td>\n",
       "      <td>Beale St at Harrison St</td>\n",
       "      <td>37.788059</td>\n",
       "      <td>-122.391865</td>\n",
       "      <td>324.0</td>\n",
       "      <td>Union Square (Powell St at Post St)</td>\n",
       "      <td>37.788300</td>\n",
       "      <td>...</td>\n",
       "      <td>Subscriber</td>\n",
       "      <td>1996.0</td>\n",
       "      <td>Male</td>\n",
       "      <td>No</td>\n",
       "      <td>Friday</td>\n",
       "      <td>February</td>\n",
       "      <td>0</td>\n",
       "      <td>Friday</td>\n",
       "      <td>February</td>\n",
       "      <td>0</td>\n",
       "    </tr>\n",
       "    <tr>\n",
       "      <th>183408</th>\n",
       "      <td>313</td>\n",
       "      <td>2019-02-01 00:05:34.744</td>\n",
       "      <td>2019-02-01 00:10:48.502</td>\n",
       "      <td>21.0</td>\n",
       "      <td>Montgomery St BART Station (Market St at 2nd St)</td>\n",
       "      <td>37.789625</td>\n",
       "      <td>-122.400811</td>\n",
       "      <td>66.0</td>\n",
       "      <td>3rd St at Townsend St</td>\n",
       "      <td>37.778742</td>\n",
       "      <td>...</td>\n",
       "      <td>Subscriber</td>\n",
       "      <td>1984.0</td>\n",
       "      <td>Male</td>\n",
       "      <td>No</td>\n",
       "      <td>Friday</td>\n",
       "      <td>February</td>\n",
       "      <td>0</td>\n",
       "      <td>Friday</td>\n",
       "      <td>February</td>\n",
       "      <td>0</td>\n",
       "    </tr>\n",
       "    <tr>\n",
       "      <th>183409</th>\n",
       "      <td>141</td>\n",
       "      <td>2019-02-01 00:06:05.549</td>\n",
       "      <td>2019-02-01 00:08:27.220</td>\n",
       "      <td>278.0</td>\n",
       "      <td>The Alameda at Bush St</td>\n",
       "      <td>37.331932</td>\n",
       "      <td>-121.904888</td>\n",
       "      <td>277.0</td>\n",
       "      <td>Morrison Ave at Julian St</td>\n",
       "      <td>37.333658</td>\n",
       "      <td>...</td>\n",
       "      <td>Subscriber</td>\n",
       "      <td>1990.0</td>\n",
       "      <td>Male</td>\n",
       "      <td>Yes</td>\n",
       "      <td>Friday</td>\n",
       "      <td>February</td>\n",
       "      <td>0</td>\n",
       "      <td>Friday</td>\n",
       "      <td>February</td>\n",
       "      <td>0</td>\n",
       "    </tr>\n",
       "    <tr>\n",
       "      <th>183410</th>\n",
       "      <td>139</td>\n",
       "      <td>2019-02-01 00:05:34.360</td>\n",
       "      <td>2019-02-01 00:07:54.287</td>\n",
       "      <td>220.0</td>\n",
       "      <td>San Pablo Ave at MLK Jr Way</td>\n",
       "      <td>37.811351</td>\n",
       "      <td>-122.273422</td>\n",
       "      <td>216.0</td>\n",
       "      <td>San Pablo Ave at 27th St</td>\n",
       "      <td>37.817827</td>\n",
       "      <td>...</td>\n",
       "      <td>Subscriber</td>\n",
       "      <td>1988.0</td>\n",
       "      <td>Male</td>\n",
       "      <td>No</td>\n",
       "      <td>Friday</td>\n",
       "      <td>February</td>\n",
       "      <td>0</td>\n",
       "      <td>Friday</td>\n",
       "      <td>February</td>\n",
       "      <td>0</td>\n",
       "    </tr>\n",
       "    <tr>\n",
       "      <th>183411</th>\n",
       "      <td>271</td>\n",
       "      <td>2019-02-01 00:00:20.636</td>\n",
       "      <td>2019-02-01 00:04:52.058</td>\n",
       "      <td>24.0</td>\n",
       "      <td>Spear St at Folsom St</td>\n",
       "      <td>37.789677</td>\n",
       "      <td>-122.390428</td>\n",
       "      <td>37.0</td>\n",
       "      <td>2nd St at Folsom St</td>\n",
       "      <td>37.785000</td>\n",
       "      <td>...</td>\n",
       "      <td>Subscriber</td>\n",
       "      <td>1989.0</td>\n",
       "      <td>Male</td>\n",
       "      <td>No</td>\n",
       "      <td>Friday</td>\n",
       "      <td>February</td>\n",
       "      <td>0</td>\n",
       "      <td>Friday</td>\n",
       "      <td>February</td>\n",
       "      <td>0</td>\n",
       "    </tr>\n",
       "  </tbody>\n",
       "</table>\n",
       "<p>174952 rows × 22 columns</p>\n",
       "</div>"
      ],
      "text/plain": [
       "        duration_sec              start_time                end_time  \\\n",
       "0              52185 2019-02-28 17:32:10.145 2019-03-01 08:01:55.975   \n",
       "2              61854 2019-02-28 12:13:13.218 2019-03-01 05:24:08.146   \n",
       "3              36490 2019-02-28 17:54:26.010 2019-03-01 04:02:36.842   \n",
       "4               1585 2019-02-28 23:54:18.549 2019-03-01 00:20:44.074   \n",
       "5               1793 2019-02-28 23:49:58.632 2019-03-01 00:19:51.760   \n",
       "...              ...                     ...                     ...   \n",
       "183407           480 2019-02-01 00:04:49.724 2019-02-01 00:12:50.034   \n",
       "183408           313 2019-02-01 00:05:34.744 2019-02-01 00:10:48.502   \n",
       "183409           141 2019-02-01 00:06:05.549 2019-02-01 00:08:27.220   \n",
       "183410           139 2019-02-01 00:05:34.360 2019-02-01 00:07:54.287   \n",
       "183411           271 2019-02-01 00:00:20.636 2019-02-01 00:04:52.058   \n",
       "\n",
       "        start_station_id                                start_station_name  \\\n",
       "0                   21.0  Montgomery St BART Station (Market St at 2nd St)   \n",
       "2                   86.0                           Market St at Dolores St   \n",
       "3                  375.0                           Grove St at Masonic Ave   \n",
       "4                    7.0                               Frank H Ogawa Plaza   \n",
       "5                   93.0                      4th St at Mission Bay Blvd S   \n",
       "...                  ...                                               ...   \n",
       "183407              27.0                           Beale St at Harrison St   \n",
       "183408              21.0  Montgomery St BART Station (Market St at 2nd St)   \n",
       "183409             278.0                            The Alameda at Bush St   \n",
       "183410             220.0                       San Pablo Ave at MLK Jr Way   \n",
       "183411              24.0                             Spear St at Folsom St   \n",
       "\n",
       "        start_station_latitude  start_station_longitude  end_station_id  \\\n",
       "0                    37.789625              -122.400811            13.0   \n",
       "2                    37.769305              -122.426826             3.0   \n",
       "3                    37.774836              -122.446546            70.0   \n",
       "4                    37.804562              -122.271738           222.0   \n",
       "5                    37.770407              -122.391198           323.0   \n",
       "...                        ...                      ...             ...   \n",
       "183407               37.788059              -122.391865           324.0   \n",
       "183408               37.789625              -122.400811            66.0   \n",
       "183409               37.331932              -121.904888           277.0   \n",
       "183410               37.811351              -122.273422           216.0   \n",
       "183411               37.789677              -122.390428            37.0   \n",
       "\n",
       "                                    end_station_name  end_station_latitude  \\\n",
       "0                     Commercial St at Montgomery St             37.794231   \n",
       "2       Powell St BART Station (Market St at 4th St)             37.786375   \n",
       "3                             Central Ave at Fell St             37.773311   \n",
       "4                              10th Ave at E 15th St             37.792714   \n",
       "5                                 Broadway at Kearny             37.798014   \n",
       "...                                              ...                   ...   \n",
       "183407           Union Square (Powell St at Post St)             37.788300   \n",
       "183408                         3rd St at Townsend St             37.778742   \n",
       "183409                     Morrison Ave at Julian St             37.333658   \n",
       "183410                      San Pablo Ave at 27th St             37.817827   \n",
       "183411                           2nd St at Folsom St             37.785000   \n",
       "\n",
       "        ...   user_type member_birth_year member_gender  \\\n",
       "0       ...    Customer            1984.0          Male   \n",
       "2       ...    Customer            1972.0          Male   \n",
       "3       ...  Subscriber            1989.0         Other   \n",
       "4       ...  Subscriber            1974.0          Male   \n",
       "5       ...  Subscriber            1959.0          Male   \n",
       "...     ...         ...               ...           ...   \n",
       "183407  ...  Subscriber            1996.0          Male   \n",
       "183408  ...  Subscriber            1984.0          Male   \n",
       "183409  ...  Subscriber            1990.0          Male   \n",
       "183410  ...  Subscriber            1988.0          Male   \n",
       "183411  ...  Subscriber            1989.0          Male   \n",
       "\n",
       "        bike_share_for_all_trip start_day start_month start_hr end_day  \\\n",
       "0                            No  Thursday    February       17  Friday   \n",
       "2                            No  Thursday    February       12  Friday   \n",
       "3                            No  Thursday    February       17  Friday   \n",
       "4                           Yes  Thursday    February       23  Friday   \n",
       "5                            No  Thursday    February       23  Friday   \n",
       "...                         ...       ...         ...      ...     ...   \n",
       "183407                       No    Friday    February        0  Friday   \n",
       "183408                       No    Friday    February        0  Friday   \n",
       "183409                      Yes    Friday    February        0  Friday   \n",
       "183410                       No    Friday    February        0  Friday   \n",
       "183411                       No    Friday    February        0  Friday   \n",
       "\n",
       "       end_month end_hr  \n",
       "0          March      8  \n",
       "2          March      5  \n",
       "3          March      4  \n",
       "4          March      0  \n",
       "5          March      0  \n",
       "...          ...    ...  \n",
       "183407  February      0  \n",
       "183408  February      0  \n",
       "183409  February      0  \n",
       "183410  February      0  \n",
       "183411  February      0  \n",
       "\n",
       "[174952 rows x 22 columns]"
      ]
     },
     "execution_count": 18,
     "metadata": {},
     "output_type": "execute_result"
    }
   ],
   "source": [
    "df_bike"
   ]
  },
  {
   "cell_type": "markdown",
   "id": "4d1352c0",
   "metadata": {},
   "source": [
    "# What is the structure of your dataset?"
   ]
  },
  {
   "cell_type": "markdown",
   "id": "6d5882c3",
   "metadata": {},
   "source": [
    "The df_bike dataset consists of 174952 rows x 22 columns.In other words, this dataset has \n",
    "174952 observations and 22 variables."
   ]
  },
  {
   "cell_type": "markdown",
   "id": "409717f3",
   "metadata": {},
   "source": [
    "# What are the main features of interest in your dataset?"
   ]
  },
  {
   "cell_type": "markdown",
   "id": "4236539f",
   "metadata": {},
   "source": [
    "The main features of interest in this dataset is finding out the time of the day, \n",
    "day of the week, month of the year that most trips were taken and these relates to the\n",
    "duration_sec, start_time, and user_type column."
   ]
  },
  {
   "cell_type": "markdown",
   "id": "0e842c41",
   "metadata": {},
   "source": [
    "# What features in the dataset do you think will help support your investigation into your feature(s) of interest?"
   ]
  },
  {
   "cell_type": "markdown",
   "id": "587109ac",
   "metadata": {},
   "source": [
    "The start_date variable will provide the information that is needed for this findings\n",
    "because we will be able to extract the day, week, and month columns.We expect the variable to help in further\n",
    "analysis of our expectation that most of the trips take place in the morning hour, weekdays and holiday months."
   ]
  },
  {
   "cell_type": "markdown",
   "id": "b3dbca5c",
   "metadata": {},
   "source": [
    "# Exploratory Data Analysis"
   ]
  },
  {
   "cell_type": "code",
   "execution_count": 19,
   "id": "b4cdea89",
   "metadata": {},
   "outputs": [
    {
     "data": {
      "text/plain": [
       "Index(['duration_sec', 'start_time', 'end_time', 'start_station_id',\n",
       "       'start_station_name', 'start_station_latitude',\n",
       "       'start_station_longitude', 'end_station_id', 'end_station_name',\n",
       "       'end_station_latitude', 'end_station_longitude', 'bike_id', 'user_type',\n",
       "       'member_birth_year', 'member_gender', 'bike_share_for_all_trip',\n",
       "       'start_day', 'start_month', 'start_hr', 'end_day', 'end_month',\n",
       "       'end_hr'],\n",
       "      dtype='object')"
      ]
     },
     "execution_count": 19,
     "metadata": {},
     "output_type": "execute_result"
    }
   ],
   "source": [
    "df_bike.columns"
   ]
  },
  {
   "cell_type": "code",
   "execution_count": 20,
   "id": "180b5903",
   "metadata": {},
   "outputs": [
    {
     "data": {
      "text/html": [
       "<div>\n",
       "<style scoped>\n",
       "    .dataframe tbody tr th:only-of-type {\n",
       "        vertical-align: middle;\n",
       "    }\n",
       "\n",
       "    .dataframe tbody tr th {\n",
       "        vertical-align: top;\n",
       "    }\n",
       "\n",
       "    .dataframe thead th {\n",
       "        text-align: right;\n",
       "    }\n",
       "</style>\n",
       "<table border=\"1\" class=\"dataframe\">\n",
       "  <thead>\n",
       "    <tr style=\"text-align: right;\">\n",
       "      <th></th>\n",
       "      <th>duration_sec</th>\n",
       "      <th>start_station_id</th>\n",
       "      <th>start_station_latitude</th>\n",
       "      <th>start_station_longitude</th>\n",
       "      <th>end_station_id</th>\n",
       "      <th>end_station_latitude</th>\n",
       "      <th>end_station_longitude</th>\n",
       "      <th>member_birth_year</th>\n",
       "    </tr>\n",
       "  </thead>\n",
       "  <tbody>\n",
       "    <tr>\n",
       "      <th>count</th>\n",
       "      <td>174952.000000</td>\n",
       "      <td>174952.000000</td>\n",
       "      <td>174952.000000</td>\n",
       "      <td>174952.000000</td>\n",
       "      <td>174952.000000</td>\n",
       "      <td>174952.000000</td>\n",
       "      <td>174952.000000</td>\n",
       "      <td>174952.000000</td>\n",
       "    </tr>\n",
       "    <tr>\n",
       "      <th>mean</th>\n",
       "      <td>704.002744</td>\n",
       "      <td>139.002126</td>\n",
       "      <td>37.771220</td>\n",
       "      <td>-122.351760</td>\n",
       "      <td>136.604486</td>\n",
       "      <td>37.771414</td>\n",
       "      <td>-122.351335</td>\n",
       "      <td>1984.803135</td>\n",
       "    </tr>\n",
       "    <tr>\n",
       "      <th>std</th>\n",
       "      <td>1642.204905</td>\n",
       "      <td>111.648819</td>\n",
       "      <td>0.100391</td>\n",
       "      <td>0.117732</td>\n",
       "      <td>111.335635</td>\n",
       "      <td>0.100295</td>\n",
       "      <td>0.117294</td>\n",
       "      <td>10.118731</td>\n",
       "    </tr>\n",
       "    <tr>\n",
       "      <th>min</th>\n",
       "      <td>61.000000</td>\n",
       "      <td>3.000000</td>\n",
       "      <td>37.317298</td>\n",
       "      <td>-122.453704</td>\n",
       "      <td>3.000000</td>\n",
       "      <td>37.317298</td>\n",
       "      <td>-122.453704</td>\n",
       "      <td>1878.000000</td>\n",
       "    </tr>\n",
       "    <tr>\n",
       "      <th>25%</th>\n",
       "      <td>323.000000</td>\n",
       "      <td>47.000000</td>\n",
       "      <td>37.770407</td>\n",
       "      <td>-122.411901</td>\n",
       "      <td>44.000000</td>\n",
       "      <td>37.770407</td>\n",
       "      <td>-122.411647</td>\n",
       "      <td>1980.000000</td>\n",
       "    </tr>\n",
       "    <tr>\n",
       "      <th>50%</th>\n",
       "      <td>510.000000</td>\n",
       "      <td>104.000000</td>\n",
       "      <td>37.780760</td>\n",
       "      <td>-122.398279</td>\n",
       "      <td>101.000000</td>\n",
       "      <td>37.781010</td>\n",
       "      <td>-122.397437</td>\n",
       "      <td>1987.000000</td>\n",
       "    </tr>\n",
       "    <tr>\n",
       "      <th>75%</th>\n",
       "      <td>789.000000</td>\n",
       "      <td>239.000000</td>\n",
       "      <td>37.797320</td>\n",
       "      <td>-122.283093</td>\n",
       "      <td>238.000000</td>\n",
       "      <td>37.797673</td>\n",
       "      <td>-122.286533</td>\n",
       "      <td>1992.000000</td>\n",
       "    </tr>\n",
       "    <tr>\n",
       "      <th>max</th>\n",
       "      <td>84548.000000</td>\n",
       "      <td>398.000000</td>\n",
       "      <td>37.880222</td>\n",
       "      <td>-121.874119</td>\n",
       "      <td>398.000000</td>\n",
       "      <td>37.880222</td>\n",
       "      <td>-121.874119</td>\n",
       "      <td>2001.000000</td>\n",
       "    </tr>\n",
       "  </tbody>\n",
       "</table>\n",
       "</div>"
      ],
      "text/plain": [
       "        duration_sec  start_station_id  start_station_latitude  \\\n",
       "count  174952.000000     174952.000000           174952.000000   \n",
       "mean      704.002744        139.002126               37.771220   \n",
       "std      1642.204905        111.648819                0.100391   \n",
       "min        61.000000          3.000000               37.317298   \n",
       "25%       323.000000         47.000000               37.770407   \n",
       "50%       510.000000        104.000000               37.780760   \n",
       "75%       789.000000        239.000000               37.797320   \n",
       "max     84548.000000        398.000000               37.880222   \n",
       "\n",
       "       start_station_longitude  end_station_id  end_station_latitude  \\\n",
       "count            174952.000000   174952.000000         174952.000000   \n",
       "mean               -122.351760      136.604486             37.771414   \n",
       "std                   0.117732      111.335635              0.100295   \n",
       "min                -122.453704        3.000000             37.317298   \n",
       "25%                -122.411901       44.000000             37.770407   \n",
       "50%                -122.398279      101.000000             37.781010   \n",
       "75%                -122.283093      238.000000             37.797673   \n",
       "max                -121.874119      398.000000             37.880222   \n",
       "\n",
       "       end_station_longitude  member_birth_year  \n",
       "count          174952.000000      174952.000000  \n",
       "mean             -122.351335        1984.803135  \n",
       "std                 0.117294          10.118731  \n",
       "min              -122.453704        1878.000000  \n",
       "25%              -122.411647        1980.000000  \n",
       "50%              -122.397437        1987.000000  \n",
       "75%              -122.286533        1992.000000  \n",
       "max              -121.874119        2001.000000  "
      ]
     },
     "execution_count": 20,
     "metadata": {},
     "output_type": "execute_result"
    }
   ],
   "source": [
    "df_bike.describe()"
   ]
  },
  {
   "cell_type": "code",
   "execution_count": 21,
   "id": "9a89a266",
   "metadata": {},
   "outputs": [
    {
     "data": {
      "text/html": [
       "<div>\n",
       "<style scoped>\n",
       "    .dataframe tbody tr th:only-of-type {\n",
       "        vertical-align: middle;\n",
       "    }\n",
       "\n",
       "    .dataframe tbody tr th {\n",
       "        vertical-align: top;\n",
       "    }\n",
       "\n",
       "    .dataframe thead tr th {\n",
       "        text-align: left;\n",
       "    }\n",
       "\n",
       "    .dataframe thead tr:last-of-type th {\n",
       "        text-align: right;\n",
       "    }\n",
       "</style>\n",
       "<table border=\"1\" class=\"dataframe\">\n",
       "  <thead>\n",
       "    <tr>\n",
       "      <th></th>\n",
       "      <th colspan=\"8\" halign=\"left\">duration_sec</th>\n",
       "      <th colspan=\"2\" halign=\"left\">start_station_id</th>\n",
       "      <th>...</th>\n",
       "      <th colspan=\"2\" halign=\"left\">end_station_longitude</th>\n",
       "      <th colspan=\"8\" halign=\"left\">member_birth_year</th>\n",
       "    </tr>\n",
       "    <tr>\n",
       "      <th></th>\n",
       "      <th>count</th>\n",
       "      <th>mean</th>\n",
       "      <th>std</th>\n",
       "      <th>min</th>\n",
       "      <th>25%</th>\n",
       "      <th>50%</th>\n",
       "      <th>75%</th>\n",
       "      <th>max</th>\n",
       "      <th>count</th>\n",
       "      <th>mean</th>\n",
       "      <th>...</th>\n",
       "      <th>75%</th>\n",
       "      <th>max</th>\n",
       "      <th>count</th>\n",
       "      <th>mean</th>\n",
       "      <th>std</th>\n",
       "      <th>min</th>\n",
       "      <th>25%</th>\n",
       "      <th>50%</th>\n",
       "      <th>75%</th>\n",
       "      <th>max</th>\n",
       "    </tr>\n",
       "    <tr>\n",
       "      <th>user_type</th>\n",
       "      <th></th>\n",
       "      <th></th>\n",
       "      <th></th>\n",
       "      <th></th>\n",
       "      <th></th>\n",
       "      <th></th>\n",
       "      <th></th>\n",
       "      <th></th>\n",
       "      <th></th>\n",
       "      <th></th>\n",
       "      <th></th>\n",
       "      <th></th>\n",
       "      <th></th>\n",
       "      <th></th>\n",
       "      <th></th>\n",
       "      <th></th>\n",
       "      <th></th>\n",
       "      <th></th>\n",
       "      <th></th>\n",
       "      <th></th>\n",
       "      <th></th>\n",
       "    </tr>\n",
       "  </thead>\n",
       "  <tbody>\n",
       "    <tr>\n",
       "      <th>Customer</th>\n",
       "      <td>16566.0</td>\n",
       "      <td>1310.656103</td>\n",
       "      <td>3399.899962</td>\n",
       "      <td>62.0</td>\n",
       "      <td>498.0</td>\n",
       "      <td>780.0</td>\n",
       "      <td>1230.0</td>\n",
       "      <td>83519.0</td>\n",
       "      <td>16566.0</td>\n",
       "      <td>135.650549</td>\n",
       "      <td>...</td>\n",
       "      <td>-122.391034</td>\n",
       "      <td>-121.876613</td>\n",
       "      <td>16566.0</td>\n",
       "      <td>1985.351382</td>\n",
       "      <td>9.486138</td>\n",
       "      <td>1878.0</td>\n",
       "      <td>1981.0</td>\n",
       "      <td>1987.0</td>\n",
       "      <td>1992.0</td>\n",
       "      <td>2001.0</td>\n",
       "    </tr>\n",
       "    <tr>\n",
       "      <th>Subscriber</th>\n",
       "      <td>158386.0</td>\n",
       "      <td>640.551305</td>\n",
       "      <td>1314.319131</td>\n",
       "      <td>61.0</td>\n",
       "      <td>312.0</td>\n",
       "      <td>490.0</td>\n",
       "      <td>750.0</td>\n",
       "      <td>84548.0</td>\n",
       "      <td>158386.0</td>\n",
       "      <td>139.352676</td>\n",
       "      <td>...</td>\n",
       "      <td>-122.279720</td>\n",
       "      <td>-121.874119</td>\n",
       "      <td>158386.0</td>\n",
       "      <td>1984.745792</td>\n",
       "      <td>10.180949</td>\n",
       "      <td>1900.0</td>\n",
       "      <td>1980.0</td>\n",
       "      <td>1987.0</td>\n",
       "      <td>1992.0</td>\n",
       "      <td>2001.0</td>\n",
       "    </tr>\n",
       "  </tbody>\n",
       "</table>\n",
       "<p>2 rows × 64 columns</p>\n",
       "</div>"
      ],
      "text/plain": [
       "           duration_sec                                                        \\\n",
       "                  count         mean          std   min    25%    50%     75%   \n",
       "user_type                                                                       \n",
       "Customer        16566.0  1310.656103  3399.899962  62.0  498.0  780.0  1230.0   \n",
       "Subscriber     158386.0   640.551305  1314.319131  61.0  312.0  490.0   750.0   \n",
       "\n",
       "                    start_station_id              ... end_station_longitude  \\\n",
       "                max            count        mean  ...                   75%   \n",
       "user_type                                         ...                         \n",
       "Customer    83519.0          16566.0  135.650549  ...           -122.391034   \n",
       "Subscriber  84548.0         158386.0  139.352676  ...           -122.279720   \n",
       "\n",
       "                       member_birth_year                                  \\\n",
       "                   max             count         mean        std     min   \n",
       "user_type                                                                  \n",
       "Customer   -121.876613           16566.0  1985.351382   9.486138  1878.0   \n",
       "Subscriber -121.874119          158386.0  1984.745792  10.180949  1900.0   \n",
       "\n",
       "                                            \n",
       "               25%     50%     75%     max  \n",
       "user_type                                   \n",
       "Customer    1981.0  1987.0  1992.0  2001.0  \n",
       "Subscriber  1980.0  1987.0  1992.0  2001.0  \n",
       "\n",
       "[2 rows x 64 columns]"
      ]
     },
     "execution_count": 21,
     "metadata": {},
     "output_type": "execute_result"
    }
   ],
   "source": [
    "df_bike.groupby('user_type').describe()"
   ]
  },
  {
   "cell_type": "markdown",
   "id": "3af42a17",
   "metadata": {},
   "source": [
    "# Univariate Exploration"
   ]
  },
  {
   "cell_type": "markdown",
   "id": "fb448ed7",
   "metadata": {},
   "source": [
    "In this section, investigate distributions of individual variables.If you see unusual\n",
    "points or outliers, take a deeper look to clean things up and prepare yourself to look\n",
    "at the relationships between the variables."
   ]
  },
  {
   "cell_type": "markdown",
   "id": "d834c71f",
   "metadata": {},
   "source": [
    "# The number of Bicycle service users"
   ]
  },
  {
   "cell_type": "code",
   "execution_count": 22,
   "id": "9f1f4533",
   "metadata": {},
   "outputs": [
    {
     "data": {
      "text/plain": [
       "['Customer', 'Subscriber']\n",
       "Categories (2, object): ['Customer', 'Subscriber']"
      ]
     },
     "execution_count": 22,
     "metadata": {},
     "output_type": "execute_result"
    }
   ],
   "source": [
    "# There are only two types of users in the dataset\n",
    "\n",
    "df_bike.user_type.unique()"
   ]
  },
  {
   "cell_type": "code",
   "execution_count": 23,
   "id": "74c8737a",
   "metadata": {},
   "outputs": [
    {
     "data": {
      "image/png": "[encoded data removed]",
      "text/plain": [
       "<Figure size 576x360 with 1 Axes>"
      ]
     },
     "metadata": {
      "needs_background": "light"
     },
     "output_type": "display_data"
    }
   ],
   "source": [
    "# We now show the number of user using countplot\n",
    "\n",
    "plt.figure(figsize=(8,5))     \n",
    "base_color = sb.color_palette()[0]\n",
    "ax = sb.countplot(data=df_bike, x ='user_type', color=base_color)\n",
    "\n",
    "# add annotations\n",
    "n_points = df_bike.shape[0]\n",
    "cat_counts = df_bike['user_type'].value_counts()\n",
    "locs, labels = plt.xticks() # get the current tick locations and labels\n",
    "\n",
    "# loop through each pair of locations and labels\n",
    "for loc, label in zip(locs, labels):\n",
    "\n",
    "    # get the text property for the label to get the correct count\n",
    "    count = cat_counts[label.get_text()]\n",
    "    pct_string = '{}'.format(count)\n",
    "\n",
    "    # print the annotation just below the top of the bar\n",
    "    plt.text(loc, count-8, pct_string, va='top', ha='center', color = 'w', fontsize=12)\n",
    "\n",
    "plt.title('Bike User Count')\n",
    "\n",
    "# Remove unnecessary features \n",
    "ax.spines['top'].set_visible(False)\n",
    "ax.spines['right'].set_visible(False)\n",
    "ax.spines['left'].set_visible(False)\n",
    "plt.yticks([])\n",
    "plt.ylabel('')\n",
    "plt.xlabel('')\n",
    "\n",
    "# Show the plot\n",
    "plt.show();"
   ]
  },
  {
   "cell_type": "markdown",
   "id": "c2f27cf2",
   "metadata": {},
   "source": [
    "The number of users who are subscibers are many in number compared to the users who are customers,\n",
    "from the above plot."
   ]
  },
  {
   "cell_type": "markdown",
   "id": "e003b18a",
   "metadata": {},
   "source": [
    "# The Bike User Count Comparison by Percentage of the Total"
   ]
  },
  {
   "cell_type": "code",
   "execution_count": 24,
   "id": "2107fff6",
   "metadata": {},
   "outputs": [
    {
     "data": {
      "image/png": "[encoded data removed]",
      "text/plain": [
       "<Figure size 576x360 with 1 Axes>"
      ]
     },
     "metadata": {},
     "output_type": "display_data"
    }
   ],
   "source": [
    "# We plot the user type by it's percentage.\n",
    "\n",
    "plt.figure(figsize=(8,5))\n",
    "sorted_counts = df_bike['user_type'].value_counts()\n",
    "plt.pie(sorted_counts, labels = sorted_counts.index, startangle = 90,\n",
    "        counterclock = False, autopct='%1.2f%%');\n",
    "plt.axis('square')\n",
    "plt.title('Bike User Comparison', fontsize=12);"
   ]
  },
  {
   "cell_type": "markdown",
   "id": "fac7919b",
   "metadata": {},
   "source": [
    "From the total number of customers, 90.53% of the users are Subscribers while 9.47%\n",
    "of the users are Customers."
   ]
  },
  {
   "cell_type": "markdown",
   "id": "9a1b5244",
   "metadata": {},
   "source": [
    "# What is the average trip duration?"
   ]
  },
  {
   "cell_type": "code",
   "execution_count": 25,
   "id": "4b1c8ae7",
   "metadata": {},
   "outputs": [
    {
     "data": {
      "text/plain": [
       "count    174952.000000\n",
       "mean        704.002744\n",
       "std        1642.204905\n",
       "min          61.000000\n",
       "25%         323.000000\n",
       "50%         510.000000\n",
       "75%         789.000000\n",
       "max       84548.000000\n",
       "Name: duration_sec, dtype: float64"
      ]
     },
     "execution_count": 25,
     "metadata": {},
     "output_type": "execute_result"
    }
   ],
   "source": [
    "# The trip duration average\n",
    "\n",
    "df_bike.duration_sec.describe()"
   ]
  },
  {
   "cell_type": "markdown",
   "id": "491d1c9b",
   "metadata": {},
   "source": [
    "The trip duration average is 704.002744 seconds or approximately 11 minutes."
   ]
  },
  {
   "cell_type": "code",
   "execution_count": 26,
   "id": "13fa0c61",
   "metadata": {},
   "outputs": [
    {
     "data": {
      "image/png": "[encoded data removed]",
      "text/plain": [
       "<Figure size 720x432 with 1 Axes>"
      ]
     },
     "metadata": {
      "needs_background": "light"
     },
     "output_type": "display_data"
    }
   ],
   "source": [
    "binsize = 80\n",
    "bins = np.arange(80, df_bike['duration_sec'].max()+binsize, binsize)\n",
    "\n",
    "plt.figure(figsize=[10, 6])\n",
    "plt.hist(data = df_bike, x = 'duration_sec', bins=bins)\n",
    "plt.xlabel('Duration (Sec)')\n",
    "plt.xlim([0, 5000]);"
   ]
  },
  {
   "cell_type": "raw",
   "id": "07ee2824",
   "metadata": {},
   "source": [
    "This is a standard-scaled plot of the duration "
   ]
  },
  {
   "cell_type": "markdown",
   "id": "01a144d7",
   "metadata": {},
   "source": [
    "Next we plot the tail part of the distribution"
   ]
  },
  {
   "cell_type": "code",
   "execution_count": 27,
   "id": "594c7c7e",
   "metadata": {},
   "outputs": [
    {
     "data": {
      "image/png": "[encoded data removed]",
      "text/plain": [
       "<Figure size 720x432 with 1 Axes>"
      ]
     },
     "metadata": {
      "needs_background": "light"
     },
     "output_type": "display_data"
    }
   ],
   "source": [
    "# Tail part of the duration distribution of the average trips.\n",
    "\n",
    "binsize = 600\n",
    "bins = np.arange(5000, df_bike['duration_sec'].max()+binsize, binsize)\n",
    "\n",
    "plt.figure(figsize=[10, 6])\n",
    "plt.hist(data =df_bike, x = 'duration_sec', bins=bins)\n",
    "plt.xlabel('Duration (Sec)')\n",
    "plt.xlim([5000, 100000]);\n"
   ]
  },
  {
   "cell_type": "markdown",
   "id": "ce3048de",
   "metadata": {},
   "source": [
    "There is a long tail in the distribution of the trip duration, so we need to use the\n",
    "log scale instead in order to attain a plot that show the trip duration."
   ]
  },
  {
   "cell_type": "code",
   "execution_count": 28,
   "id": "6fbd97db",
   "metadata": {},
   "outputs": [
    {
     "data": {
      "image/png": "[encoded data removed]",
      "text/plain": [
       "<Figure size 720x288 with 1 Axes>"
      ]
     },
     "metadata": {
      "needs_background": "light"
     },
     "output_type": "display_data"
    }
   ],
   "source": [
    "log_binsize = 0.045\n",
    "bins = 14 ** np.arange(0.7, np.log10(df_bike['duration_sec'].max())+log_binsize, log_binsize)\n",
    "\n",
    "plt.figure(figsize=[10, 4])\n",
    "plt.hist(data = df_bike, x = 'duration_sec', bins=bins)\n",
    "plt.xscale('log')\n",
    "# plt.xlim([0,2500])\n",
    "plt.xticks([50, 1e2, 5e2, 1e3, 5e3, 1e4, 2e4, 5e4, 1e5], [50, '100', '500', '1k', '5k', '10k', '20k', '50k', '100k'])\n",
    "plt.xlabel('Duration (Sec)');"
   ]
  },
  {
   "cell_type": "markdown",
   "id": "59d7ba6e",
   "metadata": {},
   "source": [
    "Duration has a long-tailed distribution, which does have a high number of trips\n",
    "at the end of between range (250 - 1000 seconds) and a number of few long duration at \n",
    "the end.It has a high frequency at 500 secs and a downward frquency till around 10k secs.\n",
    "There are fewer durations later but with spaces in between them."
   ]
  },
  {
   "cell_type": "markdown",
   "id": "af415be8",
   "metadata": {},
   "source": [
    "# How many trips in a week?"
   ]
  },
  {
   "cell_type": "code",
   "execution_count": 29,
   "id": "f6274bfd",
   "metadata": {},
   "outputs": [
    {
     "data": {
      "text/plain": [
       "<AxesSubplot:xlabel='end_day', ylabel='count'>"
      ]
     },
     "execution_count": 29,
     "metadata": {},
     "output_type": "execute_result"
    },
    {
     "data": {
      "image/png": "[encoded data removed]",
      "text/plain": [
       "<Figure size 720x576 with 2 Axes>"
      ]
     },
     "metadata": {
      "needs_background": "light"
     },
     "output_type": "display_data"
    }
   ],
   "source": [
    "\n",
    "day_name = [\"Monday\",\"Tuesday\",\"Wednesday\",\"Thursday\",\"Friday\",\"Saturday\",\"Sunday\"]\n",
    "\n",
    "\n",
    "fig, ax = plt.subplots(2, figsize = [10,8])\n",
    "default_color = sb.color_palette()[0]\n",
    "sb.countplot(data = df_bike, x = 'start_day',order=day_name, color = default_color,  ax = ax[0])\n",
    "sb.countplot(data = df_bike, x = 'end_day',order=day_name, color = default_color,  ax = ax[1])"
   ]
  },
  {
   "cell_type": "markdown",
   "id": "26a093a4",
   "metadata": {},
   "source": [
    "This is the representation of the start_day of the days in a week in reference to the data.\n",
    "Now we need to plot the end_day of the data."
   ]
  },
  {
   "cell_type": "markdown",
   "id": "a261e134",
   "metadata": {},
   "source": [
    "The service is mostly used on weekdays than on weekends.Most of the trips are taken on start and end days on Thursdays, then tuesday,friday,\n",
    "wednesday and later Monday respectively.\n",
    "\n",
    "The frequency is low on weekends, i.e Saturdays and Sundays."
   ]
  },
  {
   "cell_type": "markdown",
   "id": "91e0fb69",
   "metadata": {},
   "source": [
    "# Ride freqency based on hour"
   ]
  },
  {
   "cell_type": "code",
   "execution_count": 30,
   "id": "9e94eb3b",
   "metadata": {},
   "outputs": [],
   "source": [
    "# convert day, and hour into ordered categorical types\n",
    "ordinal_var_dict = {'start_hr': [str(i) for i in range(0,24)],\n",
    "                   'end_hr': [str(i) for i in range(0,24)],\n",
    "                   'start_month' : ['February','March'],\n",
    "                   'end_month' : ['February', 'March']}\n",
    "\n",
    "for var in ordinal_var_dict:\n",
    "    ordered_var = pd.api.types.CategoricalDtype(ordered = True,\n",
    "                                                categories = ordinal_var_dict[var])\n",
    "    df_bike[var] = df_bike[var].astype(ordered_var)"
   ]
  },
  {
   "cell_type": "code",
   "execution_count": 31,
   "id": "580eae6d",
   "metadata": {},
   "outputs": [
    {
     "data": {
      "text/plain": [
       "<AxesSubplot:xlabel='end_hr', ylabel='count'>"
      ]
     },
     "execution_count": 31,
     "metadata": {},
     "output_type": "execute_result"
    },
    {
     "data": {
      "image/png": "[encoded data removed]",
      "text/plain": [
       "<Figure size 720x576 with 2 Axes>"
      ]
     },
     "metadata": {
      "needs_background": "light"
     },
     "output_type": "display_data"
    }
   ],
   "source": [
    "fig, ax = plt.subplots(2,figsize = [10,8])\n",
    "\n",
    "default_color = sb.color_palette()[0]\n",
    "sb.countplot(data = df_bike, x = 'start_hr', color = default_color,  ax = ax[0])\n",
    "sb.countplot(data = df_bike, x = 'end_hr', color = default_color, ax = ax[1])"
   ]
  },
  {
   "cell_type": "markdown",
   "id": "a75cd17e",
   "metadata": {},
   "source": [
    "From the above we observe that for the days, the  8,9,17 and 18 (th) hours are the \n",
    "one that have the highest trip records.This is expected as people are always rushing to work\n",
    "in the morning hours and also in the evening as they leave.\n",
    "\n",
    "\n",
    "The hours with the lowest trip records are the 3rd and 4th."
   ]
  },
  {
   "cell_type": "markdown",
   "id": "97620944",
   "metadata": {},
   "source": [
    "# Bike ride Usage based on month"
   ]
  },
  {
   "cell_type": "code",
   "execution_count": 32,
   "id": "87629165",
   "metadata": {},
   "outputs": [
    {
     "data": {
      "image/png": "[encoded data removed]",
      "text/plain": [
       "<Figure size 720x360 with 1 Axes>"
      ]
     },
     "metadata": {
      "needs_background": "light"
     },
     "output_type": "display_data"
    }
   ],
   "source": [
    "\n",
    "plt.figure(figsize=(10,5))\n",
    "plt.title('Monthly Usage Service')\n",
    "sb.countplot(data=df_bike, x='end_month', color=base_color);"
   ]
  },
  {
   "cell_type": "markdown",
   "id": "d4e222b3",
   "metadata": {},
   "source": [
    "The bike usage frequency is high in the month of February.Which shows that all trips began in\n",
    "the month of February."
   ]
  },
  {
   "cell_type": "code",
   "execution_count": 33,
   "id": "1b664a7c",
   "metadata": {},
   "outputs": [
    {
     "data": {
      "image/png": "[encoded data removed]",
      "text/plain": [
       "<Figure size 432x288 with 1 Axes>"
      ]
     },
     "metadata": {
      "needs_background": "light"
     },
     "output_type": "display_data"
    }
   ],
   "source": [
    "# We now need to ascertain the percentage and count of users in this plot.\n",
    "\n",
    "ax = sb.countplot(data = df_bike, x = 'end_month',  color=sb.color_palette()[0], order=df_bike.end_month.value_counts().index)\n",
    "\n",
    "total = len(df_bike)\n",
    "for p in ax.patches:\n",
    "    percentage = '{:.3f}%'.format(100 * p.get_height()/total)\n",
    "    x = p.get_x() + p.get_width()/2\n",
    "    y = p.get_height()+.05\n",
    "    ax.annotate(percentage, (x, y),ha='center')\n",
    "plt.show();"
   ]
  },
  {
   "cell_type": "markdown",
   "id": "cdbf088b",
   "metadata": {},
   "source": [
    "We now are able to ascertain that in the month of February a 99.992% of users \n",
    "accessed the bike services compared to the month of March where only 0.008% of the \n",
    "users accessed which is a lower number."
   ]
  },
  {
   "cell_type": "markdown",
   "id": "fae7726b",
   "metadata": {},
   "source": [
    "# Ride Frequency of Users per gender"
   ]
  },
  {
   "cell_type": "code",
   "execution_count": 34,
   "id": "4153e739",
   "metadata": {},
   "outputs": [
    {
     "data": {
      "image/png": "[encoded data removed]",
      "text/plain": [
       "<Figure size 432x288 with 1 Axes>"
      ]
     },
     "metadata": {
      "needs_background": "light"
     },
     "output_type": "display_data"
    }
   ],
   "source": [
    "ax = sb.countplot(data = df_bike, x = 'member_gender',  color=sb.color_palette()[0], order=df_bike.member_gender.value_counts().index)\n",
    "\n",
    "total = len(df_bike)\n",
    "for p in ax.patches:\n",
    "    percentage = '{:.3f}%'.format(100 * p.get_height()/total)\n",
    "    x = p.get_x() + p.get_width()/2\n",
    "    y = p.get_height()+.05\n",
    "    ax.annotate(percentage, (x, y),ha='center')\n",
    "plt.show();"
   ]
  },
  {
   "cell_type": "markdown",
   "id": "b77e69f1",
   "metadata": {},
   "source": [
    "We can ascertain that the most dominant gender of bike users is male who have a \n",
    "74.592% compared to female who have a 23.324% while as others have a 2.085%."
   ]
  },
  {
   "cell_type": "markdown",
   "id": "d108134a",
   "metadata": {},
   "source": [
    "There are more subscribers (> 90%), compared to the normal customers.\n",
    "Most of the cyclers are male (> 70%).\n"
   ]
  },
  {
   "cell_type": "markdown",
   "id": "b0d6e5c0",
   "metadata": {},
   "source": [
    "# Bivariate Exploration"
   ]
  },
  {
   "cell_type": "markdown",
   "id": "f32a5667",
   "metadata": {},
   "source": [
    "In this section, investigate relationships between pairs of variables in your data.\n",
    "Make sure the variables that you cover here have been introduced in some fashion in\n",
    "the previous section (univariate exploration)."
   ]
  },
  {
   "cell_type": "markdown",
   "id": "60d09c23",
   "metadata": {},
   "source": [
    "# Riding  Duration of Users per type"
   ]
  },
  {
   "cell_type": "code",
   "execution_count": 35,
   "id": "1d000c33",
   "metadata": {},
   "outputs": [
    {
     "data": {
      "image/png": "[encoded data removed]",
      "text/plain": [
       "<Figure size 576x360 with 1 Axes>"
      ]
     },
     "metadata": {
      "needs_background": "light"
     },
     "output_type": "display_data"
    }
   ],
   "source": [
    "plt.figure(figsize=(8,5))\n",
    "plt.title('Usage Duration by User Type Boxplot')\n",
    "sb.boxplot(data=df_bike, x='user_type', y='duration_sec');"
   ]
  },
  {
   "cell_type": "markdown",
   "id": "910aa4b6",
   "metadata": {},
   "source": [
    "From the plot it appears that customers tend to spend a lot of time on average compared to the subscribers."
   ]
  },
  {
   "cell_type": "code",
   "execution_count": 36,
   "id": "e067aadd",
   "metadata": {},
   "outputs": [],
   "source": [
    "## Average trip duration for subscribers.\n",
    "\n",
    "customer0 = df_bike['user_type']=='Customer'\n",
    "subscriber0 = df_bike['user_type']=='Subscriber'\n"
   ]
  },
  {
   "cell_type": "code",
   "execution_count": 37,
   "id": "82e85e83",
   "metadata": {},
   "outputs": [
    {
     "data": {
      "text/plain": [
       "1310.656102861282"
      ]
     },
     "execution_count": 37,
     "metadata": {},
     "output_type": "execute_result"
    }
   ],
   "source": [
    "df_bike[customer0].duration_sec.mean()"
   ]
  },
  {
   "cell_type": "markdown",
   "id": "59211f7f",
   "metadata": {},
   "source": [
    "The average duration of customers is 1310.65 seconds which is 21 minutes."
   ]
  },
  {
   "cell_type": "code",
   "execution_count": 38,
   "id": "38511383",
   "metadata": {},
   "outputs": [
    {
     "data": {
      "text/plain": [
       "640.5513050395869"
      ]
     },
     "execution_count": 38,
     "metadata": {},
     "output_type": "execute_result"
    }
   ],
   "source": [
    "df_bike[subscriber0].duration_sec.mean()"
   ]
  },
  {
   "cell_type": "markdown",
   "id": "05909204",
   "metadata": {},
   "source": [
    "The avarage duration of subscribers is 640.55 seconds which is approximately 10 minutes"
   ]
  },
  {
   "cell_type": "markdown",
   "id": "2b125b82",
   "metadata": {},
   "source": [
    "In relation to the plot per user, we can confirm that the average duration of customers is higher compared to subscribers."
   ]
  },
  {
   "cell_type": "markdown",
   "id": "90a784d2",
   "metadata": {},
   "source": [
    "# Riding Average per User In Relation to Bike Usage per month"
   ]
  },
  {
   "cell_type": "code",
   "execution_count": 45,
   "id": "15354073",
   "metadata": {},
   "outputs": [
    {
     "data": {
      "image/png": "[encoded data removed]",
      "text/plain": [
       "<Figure size 720x432 with 1 Axes>"
      ]
     },
     "metadata": {
      "needs_background": "light"
     },
     "output_type": "display_data"
    }
   ],
   "source": [
    "plt.figure(figsize=(10,6))\n",
    "\n",
    "\n",
    "plt.title('Bike Usage per Month', fontsize=15)\n",
    "chart = sb.countplot(data=df_bike, x='end_month',hue='user_type')\n",
    "\n",
    "\n",
    "chart.set(xlabel='Month', ylabel='')\n",
    "\n",
    "# Remove legend title\n",
    "sb.despine(fig=None, ax=None, top=True, right=True, left=True, bottom=False, offset=None, trim=False)\n",
    "plt.gca().legend().set_title('');\n"
   ]
  },
  {
   "cell_type": "markdown",
   "id": "1e6acbee",
   "metadata": {},
   "source": [
    "In the month of February we have both users frequency being higher compared to the month of March but in relation to the bike usage per\n",
    "month ,subscribers have the highest frequency."
   ]
  },
  {
   "cell_type": "markdown",
   "id": "667b99fb",
   "metadata": {},
   "source": [
    "# Bike  Usage of Each User per Day"
   ]
  },
  {
   "cell_type": "code",
   "execution_count": 46,
   "id": "90da7034",
   "metadata": {},
   "outputs": [
    {
     "data": {
      "image/png": "[encoded data removed]",
      "text/plain": [
       "<Figure size 648x360 with 1 Axes>"
      ]
     },
     "metadata": {
      "needs_background": "light"
     },
     "output_type": "display_data"
    }
   ],
   "source": [
    "plt.figure(figsize=(9,5))\n",
    "plt.title('Bike Use per Day', fontsize=16)\n",
    "chart = sb.countplot(data=df_bike, x='start_day', order=day_name, hue='user_type')\n",
    "chart.set(xlabel='Day', ylabel='')\n",
    "\n",
    "\n",
    "sb.despine(fig=None, ax=None, top=True, right=True, left=True, bottom=False, offset=None, trim=False)\n",
    "plt.gca().legend().set_title('')"
   ]
  },
  {
   "cell_type": "markdown",
   "id": "fb2f70cb",
   "metadata": {},
   "source": [
    "The user of the bikes seems to be lower for the customers compared to the subscribers.\n",
    "Subscribers seem to have a higher frequency of usage on weekdays which reduces on weekends.\n"
   ]
  },
  {
   "cell_type": "markdown",
   "id": "e2612b47",
   "metadata": {},
   "source": [
    "# Multivariate Exploration"
   ]
  },
  {
   "cell_type": "code",
   "execution_count": 47,
   "id": "3aa71393",
   "metadata": {},
   "outputs": [
    {
     "data": {
      "image/png": "[encoded data removed]",
      "text/plain": [
       "<Figure size 720x288 with 1 Axes>"
      ]
     },
     "metadata": {
      "needs_background": "light"
     },
     "output_type": "display_data"
    }
   ],
   "source": [
    "fig = plt.figure(figsize = [10,4])\n",
    "ax = sb.pointplot(data = df_bike, x ='member_gender', y = 'duration_sec', hue = 'user_type',\n",
    "           palette = 'Blues', linestyles = '', dodge = 0.5)\n",
    "plt.title('Trip Duration across gender,customer type')\n",
    "plt.ylabel('Average Trip Duration')\n",
    "\n",
    "\n",
    "ax.set_yticklabels([],minor = True)\n",
    "plt.show();"
   ]
  },
  {
   "cell_type": "markdown",
   "id": "88a85469",
   "metadata": {},
   "source": [
    "The user of  gender other with reference to both user type customer \n",
    "and subscriber have spent most duration compared to the females and males. "
   ]
  },
  {
   "cell_type": "code",
   "execution_count": 48,
   "id": "4048b631",
   "metadata": {},
   "outputs": [
    {
     "data": {
      "image/png": "[encoded data removed]",
      "text/plain": [
       "<Figure size 576x432 with 1 Axes>"
      ]
     },
     "metadata": {
      "needs_background": "light"
     },
     "output_type": "display_data"
    }
   ],
   "source": [
    "plt.figure(figsize=(8,6))\n",
    "plt.title('Hourly Duration Usage', fontsize=18)\n",
    "sb.barplot(data=df_bike, x='start_hr', y='duration_sec', ci=None, hue='user_type')\n",
    "\n",
    "chart.set(xlabel='Hour', ylabel='')\n",
    "\n",
    "# Remove the  legend \n",
    "sb.despine(fig=None, ax=None, top=True, right=True, left=True, bottom=False, offset=None, trim=False)\n",
    "plt.gca().legend().set_title('');"
   ]
  },
  {
   "cell_type": "markdown",
   "id": "3dc8750c",
   "metadata": {},
   "source": [
    "The customers used a higher frequency of hourly average duration compared to\n",
    "the subscribers."
   ]
  },
  {
   "cell_type": "markdown",
   "id": "75a20adf",
   "metadata": {},
   "source": [
    "# Conclusion of  Analysis"
   ]
  },
  {
   "cell_type": "markdown",
   "id": "4842274b",
   "metadata": {},
   "source": [
    "The user type does have an influence on the use of the service.\n",
    "It is based upon the following:\n",
    "    \n"
   ]
  },
  {
   "cell_type": "raw",
   "id": "f28f9d60",
   "metadata": {},
   "source": [
    ". Days of use.\n",
    ". Hours of use.\n",
    ". Duration of use."
   ]
  },
  {
   "cell_type": "markdown",
   "id": "fca7eeb5",
   "metadata": {},
   "source": [
    "1) Hours of use\n",
    "\n",
    "The Subscribers have a higher usage rate at the peak hours, while the \n",
    "customers have a much more flexible time rate.\n",
    "\n",
    "2) Days of Use\n",
    "\n",
    "The days of use of subscribers are mostly in the weekdays and less on weekends,\n",
    "while the customers seem to have a much flexible time.\n",
    "\n",
    "3) Duration of Use\n",
    "\n",
    "The duration of use for subscribers tends to have a more consistent duration\n",
    "than the customers."
   ]
  },
  {
   "cell_type": "markdown",
   "id": "9e8695ea",
   "metadata": {},
   "source": [
    "The average duration for all trips is < 500 seconds.Most number of the trips were done\n",
    "on the days of Tuesday and Thursday.The highest number of trips were taken by males (> 70%).\n",
    "\n",
    "\n",
    "Customers spent more duration than the subscribers.The highest number of trips that\n",
    "were taken are done by subscribers which is > 90%.\n",
    "\n"
   ]
  },
  {
   "cell_type": "code",
   "execution_count": 49,
   "id": "7f34abed",
   "metadata": {},
   "outputs": [
    {
     "data": {
      "text/plain": [
       "1"
      ]
     },
     "execution_count": 49,
     "metadata": {},
     "output_type": "execute_result"
    }
   ],
   "source": [
    "from subprocess import call\n",
    "call(['python', '-m', 'nbconvert', 'Ford GoBike System Data Part 1.ipynb'])"
   ]
  },
  {
   "cell_type": "code",
   "execution_count": null,
   "id": "3db83073",
   "metadata": {},
   "outputs": [],
   "source": []
  },
  {
   "cell_type": "code",
   "execution_count": null,
   "id": "a579aedb",
   "metadata": {},
   "outputs": [],
   "source": []
  }
 ],
 "metadata": {
  "kernelspec": {
   "display_name": "Python 3 (ipykernel)",
   "language": "python",
   "name": "python3"
  },
  "language_info": {
   "codemirror_mode": {
    "name": "ipython",
    "version": 3
   },
   "file_extension": ".py",
   "mimetype": "text/x-python",
   "name": "python",
   "nbconvert_exporter": "python",
   "pygments_lexer": "ipython3",
   "version": "3.9.12"
  }
 },
 "nbformat": 4,
 "nbformat_minor": 5
}
